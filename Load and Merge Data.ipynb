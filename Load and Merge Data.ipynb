{
 "cells": [
  {
   "cell_type": "markdown",
   "metadata": {},
   "source": [
    "# Load and Merge Data"
   ]
  },
  {
   "cell_type": "code",
   "execution_count": 3,
   "metadata": {},
   "outputs": [],
   "source": [
    "import pandas as pd"
   ]
  },
  {
   "cell_type": "markdown",
   "metadata": {
    "jupyter": {
     "source_hidden": true
    }
   },
   "source": [
    "The news analytics data is secured from RavenPack Analytics. The source of the news articles include Dow Jones Financial Wires, Wall Street Journal, Barron’s, MarketWatch, Press releases, regulatory, corporate and news services.\n",
    "\n",
    "For each record in the RavenPack Analytics dataset, a set of analytics are produced:\n",
    "\n",
    "Entities: Company details like full name, country of domicile, RavenPack’s unique entity identifier, and securities identifiers, among others.\n",
    "\n",
    "Events: Information about the type of event detected in the news following RavenPack´s detailed event taxonomy.\n",
    "\n",
    "Scores: A set of numerical scores identifying different aspects of an event in relation to the entity in the news (e.g. Relevance Score, Event Relevance Score, Event Similarity Days, and Event Sentiment Score).\n",
    "\n",
    "In order to align the RP Analytics data with the daily stock data, I employ the 'Entities' attributes. This allows me to pinpoint the RP records that are directly applicable to the target company. Subsequently, I compute the daily average of the sentiment scores derived from all relevant records.\n",
    "\n",
    "The 'Sentiment Score' column values span from -1 to 1. A score near -1 signifies that the overall news sentiment leans towards negativity, while a value closer to one indicates a predominantly positive sentiment.\n",
    "\n",
    "For instance, consider the news sentiment score for Microsoft on 30th April 2013, marked as 0.01375. This score represents the average sentiment derived from all news articles gathered by RP Analytics concerning Microsoft on that specific day. An average sentiment score of 0.01375 suggests an almost neutral sentiment for the given day in the news pertaining to Microsoft."
   ]
  },
  {
   "cell_type": "code",
   "execution_count": 4,
   "metadata": {},
   "outputs": [],
   "source": [
    "# Load the news_data.csv file\n",
    "news_data = pd.read_csv('news_data.csv')\n",
    "\n",
    "# Load the stock_data.csv file\n",
    "stock_data = pd.read_csv('stock_data.csv')\n",
    "\n",
    "# Merge the two datasets based on \"Date\" and \"Ticker\"\n",
    "merged_data = pd.merge(stock_data, news_data, on=[\"Date\", \"Ticker\"])\n"
   ]
  },
  {
   "cell_type": "code",
   "execution_count": 5,
   "metadata": {
    "collapsed": true,
    "jupyter": {
     "outputs_hidden": true
    }
   },
   "outputs": [
    {
     "data": {
      "text/html": [
       "<div>\n",
       "<style scoped>\n",
       "    .dataframe tbody tr th:only-of-type {\n",
       "        vertical-align: middle;\n",
       "    }\n",
       "\n",
       "    .dataframe tbody tr th {\n",
       "        vertical-align: top;\n",
       "    }\n",
       "\n",
       "    .dataframe thead th {\n",
       "        text-align: right;\n",
       "    }\n",
       "</style>\n",
       "<table border=\"1\" class=\"dataframe\">\n",
       "  <thead>\n",
       "    <tr style=\"text-align: right;\">\n",
       "      <th></th>\n",
       "      <th>Sent</th>\n",
       "    </tr>\n",
       "  </thead>\n",
       "  <tbody>\n",
       "    <tr>\n",
       "      <th>count</th>\n",
       "      <td>202738.000000</td>\n",
       "    </tr>\n",
       "    <tr>\n",
       "      <th>mean</th>\n",
       "      <td>0.753430</td>\n",
       "    </tr>\n",
       "    <tr>\n",
       "      <th>std</th>\n",
       "      <td>2.511692</td>\n",
       "    </tr>\n",
       "    <tr>\n",
       "      <th>min</th>\n",
       "      <td>-96.880000</td>\n",
       "    </tr>\n",
       "    <tr>\n",
       "      <th>25%</th>\n",
       "      <td>0.000000</td>\n",
       "    </tr>\n",
       "    <tr>\n",
       "      <th>50%</th>\n",
       "      <td>0.100000</td>\n",
       "    </tr>\n",
       "    <tr>\n",
       "      <th>75%</th>\n",
       "      <td>0.480000</td>\n",
       "    </tr>\n",
       "    <tr>\n",
       "      <th>max</th>\n",
       "      <td>66.620000</td>\n",
       "    </tr>\n",
       "  </tbody>\n",
       "</table>\n",
       "</div>"
      ],
      "text/plain": [
       "                Sent\n",
       "count  202738.000000\n",
       "mean        0.753430\n",
       "std         2.511692\n",
       "min       -96.880000\n",
       "25%         0.000000\n",
       "50%         0.100000\n",
       "75%         0.480000\n",
       "max        66.620000"
      ]
     },
     "execution_count": 5,
     "metadata": {},
     "output_type": "execute_result"
    }
   ],
   "source": [
    "news_data.describe()"
   ]
  },
  {
   "cell_type": "code",
   "execution_count": 3,
   "metadata": {},
   "outputs": [],
   "source": [
    "df_covid =describe.read_csv(\"owid-covid-data.csv\")"
   ]
  },
  {
   "cell_type": "code",
   "execution_count": 4,
   "metadata": {
    "jupyter": {
     "source_hidden": true
    }
   },
   "outputs": [],
   "source": [
    "# Filter the data for iso_code 'USA'\n",
    "df_covid = df_covid[df_covid['iso_code'] == 'USA']\n",
    "\n",
    "df_covid = df_covid[df_covid[\"date\"] <= \"2023-04-28\"]\n",
    "\n",
    "# Extract the day of the week for each date in the dataset\n",
    "df_covid['day_of_week'] = pd.to_datetime(df_covid['date']).dt.day_name()\n",
    "\n",
    "# Drop rows where day_of_week is either 'Saturday' or 'Sunday'\n",
    "df_covid = df_covid[~df_covid['day_of_week'].isin(['Saturday', 'Sunday'])]\n",
    "\n",
    "# Drop all columns in df_covid except for 'date' and 'new_cases'\n",
    "df_covid = df_covid[['date', 'new_cases']]\n",
    "\n",
    "# Rename the 'new_cases' column to 'new_covid_cases'\n",
    "df_covid = df_covid.rename(columns={\"new_cases\": \"New_Covid_Cases\"})\n",
    "\n",
    "# Rename the 'Sent' column to 'Sentiment_Score'\n",
    "merged_data.rename(columns={\"Sent\": \"Sentiment_Score\"}, inplace=True)\n"
   ]
  },
  {
   "cell_type": "code",
   "execution_count": 5,
   "metadata": {},
   "outputs": [],
   "source": [
    "merged_data = pd.merge(merged_data, df_covid, left_on=\"Date\", right_on=\"date\", how=\"left\")"
   ]
  },
  {
   "cell_type": "code",
   "execution_count": 6,
   "metadata": {},
   "outputs": [],
   "source": [
    "merged_data.drop(columns=[\"date\"], inplace=True)"
   ]
  },
  {
   "cell_type": "code",
   "execution_count": 7,
   "metadata": {
    "collapsed": true,
    "jupyter": {
     "outputs_hidden": true,
     "source_hidden": true
    }
   },
   "outputs": [
    {
     "name": "stdout",
     "output_type": "stream",
     "text": [
      "{'MSFT': 2396829515776, 'AAPL': 2818976514048, 'NVDA': 1073202724864, 'AMZN': 1430710255616, 'META': 779736252416, 'TSLA': 754921635840, 'GOOGL': 1662264016896, 'GOOG': 1664647692288, 'AVGO': 350897799168, 'PEP': 253345775616, 'COST': 249013714944, 'ADBE': 237813645312, 'CSCO': 219340111872, 'NFLX': 189552279552, 'AMD': 178307121152, 'CMCSA': 194059026432, 'TMUS': 167156678656, 'TXN': 154187481088, 'INTC': 147610796032, 'HON': 126276526080, 'INTU': 141441499136, 'QCOM': 127280070656, 'ISRG': 107026243584, 'AMGN': 139758567424, 'AMAT': 118614261760, 'SBUX': 115293446144, 'BKNG': 119494189056, 'ADI': 92802441216, 'MDLZ': 100130021376, 'GILD': 99457458176, 'ADP': 104061550592, 'VRTX': 89939730432, 'LRCX': 89286393856, 'PYPL': 70189309952, 'REGN': 88501960704, 'PANW': 67025068032, 'ATVI': 71536541696, 'MU': 74507780096, 'CSX': 61764870144, 'SNPS': 65882238976, 'KLAC': 66925674496, 'ASML': 264468348928, 'CDNS': 61761564672, 'FTNT': 46589603840, 'ORLY': 57603616768, 'MNST': 61672153088, 'MAR': 62879211520, 'CHTR': 64257884160, 'MELI': 65320087552, 'ABNB': 83672645632, 'NXPI': 53143302144, 'MRVL': 51032399872, 'DXCM': 44593647616, 'CTAS': 50192535552, 'MCHP': 44934774784, 'MRNA': 38038941696, 'LULU': 49080127488, 'ADSK': 44979703808, 'PDD': 108120645632, 'WDAY': 59531489280, 'PCAR': 44966027264, 'AEP': 41299107840, 'KDP': 47314407424, 'KHC': 41990012928, 'IDXX': 42080575488, 'CPRT': 42215243776, 'PAYX': 45179981824, 'ON': 41634713600, 'EXC': 39917027328, 'ODFL': 45669511168, 'BIIB': 39327121408, 'AZN': 219739701248, 'ROST': 39063023616, 'GEHC': 32525422592, 'EA': 33241812992, 'SGEN': 36695470080, 'CSGP': 33177452544, 'GFS': 32017205248, 'XEL': 32586575872, 'BKR': 35928412160, 'CTSH': 36025790464, 'FAST': 32983054336, 'VRSK': 34240901120, 'CRWD': 35891036160, 'DLTR': 32297420800, 'WBD': 33070194688, 'DDOG': 28761143296, 'CEG': 34833633280, 'ILMN': 27816114176, 'ANSS': 26347634688, 'ALGN': 27409154048, 'TEAM': 51496493056, 'WBA': 25152403456, 'FANG': 27057254400, 'ENPH': 18839439360, 'EBAY': 23557838848, 'ZS': 21017788416, 'SIRI': 18181480448, 'ZM': 20051556352, 'JD': 57716707328, 'LCID': 15141442560}\n"
     ]
    }
   ],
   "source": [
    "import yfinance as yf\n",
    "\n",
    "# List of tickers\n",
    "tickers = merged_data[\"Ticker\"].unique().tolist()\n",
    "\n",
    "# Fetch the market cap data\n",
    "market_caps = {}\n",
    "for ticker in tickers:\n",
    "    stock = yf.Ticker(ticker)\n",
    "    try:\n",
    "        market_caps[ticker] = stock.info['marketCap']\n",
    "    except:\n",
    "        market_caps[ticker] = None\n",
    "\n",
    "print(market_caps)"
   ]
  },
  {
   "cell_type": "code",
   "execution_count": 8,
   "metadata": {
    "collapsed": true,
    "jupyter": {
     "outputs_hidden": true
    }
   },
   "outputs": [
    {
     "data": {
      "text/html": [
       "<div>\n",
       "<style scoped>\n",
       "    .dataframe tbody tr th:only-of-type {\n",
       "        vertical-align: middle;\n",
       "    }\n",
       "\n",
       "    .dataframe tbody tr th {\n",
       "        vertical-align: top;\n",
       "    }\n",
       "\n",
       "    .dataframe thead th {\n",
       "        text-align: right;\n",
       "    }\n",
       "</style>\n",
       "<table border=\"1\" class=\"dataframe\">\n",
       "  <thead>\n",
       "    <tr style=\"text-align: right;\">\n",
       "      <th></th>\n",
       "      <th>Date</th>\n",
       "      <th>Open</th>\n",
       "      <th>High</th>\n",
       "      <th>Low</th>\n",
       "      <th>Close</th>\n",
       "      <th>Adj Close</th>\n",
       "      <th>Volume</th>\n",
       "      <th>Ticker</th>\n",
       "      <th>Sentiment_Score</th>\n",
       "      <th>New_Covid_Cases</th>\n",
       "      <th>MarketCap</th>\n",
       "    </tr>\n",
       "  </thead>\n",
       "  <tbody>\n",
       "    <tr>\n",
       "      <th>0</th>\n",
       "      <td>2013-04-30</td>\n",
       "      <td>32.560001</td>\n",
       "      <td>33.110001</td>\n",
       "      <td>32.279999</td>\n",
       "      <td>33.099998</td>\n",
       "      <td>27.390682</td>\n",
       "      <td>75165200</td>\n",
       "      <td>MSFT</td>\n",
       "      <td>5.60</td>\n",
       "      <td>NaN</td>\n",
       "      <td>2396829515776</td>\n",
       "    </tr>\n",
       "    <tr>\n",
       "      <th>1</th>\n",
       "      <td>2013-05-01</td>\n",
       "      <td>32.930000</td>\n",
       "      <td>33.080002</td>\n",
       "      <td>32.599998</td>\n",
       "      <td>32.720001</td>\n",
       "      <td>27.076227</td>\n",
       "      <td>54330900</td>\n",
       "      <td>MSFT</td>\n",
       "      <td>0.04</td>\n",
       "      <td>NaN</td>\n",
       "      <td>2396829515776</td>\n",
       "    </tr>\n",
       "    <tr>\n",
       "      <th>2</th>\n",
       "      <td>2013-05-02</td>\n",
       "      <td>32.630001</td>\n",
       "      <td>33.169998</td>\n",
       "      <td>32.389999</td>\n",
       "      <td>33.160000</td>\n",
       "      <td>27.440329</td>\n",
       "      <td>46059500</td>\n",
       "      <td>MSFT</td>\n",
       "      <td>3.02</td>\n",
       "      <td>NaN</td>\n",
       "      <td>2396829515776</td>\n",
       "    </tr>\n",
       "    <tr>\n",
       "      <th>3</th>\n",
       "      <td>2013-05-03</td>\n",
       "      <td>33.230000</td>\n",
       "      <td>33.520000</td>\n",
       "      <td>33.080002</td>\n",
       "      <td>33.490002</td>\n",
       "      <td>27.713415</td>\n",
       "      <td>46784600</td>\n",
       "      <td>MSFT</td>\n",
       "      <td>2.66</td>\n",
       "      <td>NaN</td>\n",
       "      <td>2396829515776</td>\n",
       "    </tr>\n",
       "    <tr>\n",
       "      <th>4</th>\n",
       "      <td>2013-05-06</td>\n",
       "      <td>33.419998</td>\n",
       "      <td>33.910000</td>\n",
       "      <td>33.250000</td>\n",
       "      <td>33.750000</td>\n",
       "      <td>27.928564</td>\n",
       "      <td>40978300</td>\n",
       "      <td>MSFT</td>\n",
       "      <td>2.20</td>\n",
       "      <td>NaN</td>\n",
       "      <td>2396829515776</td>\n",
       "    </tr>\n",
       "  </tbody>\n",
       "</table>\n",
       "</div>"
      ],
      "text/plain": [
       "         Date       Open       High        Low      Close  Adj Close  \\\n",
       "0  2013-04-30  32.560001  33.110001  32.279999  33.099998  27.390682   \n",
       "1  2013-05-01  32.930000  33.080002  32.599998  32.720001  27.076227   \n",
       "2  2013-05-02  32.630001  33.169998  32.389999  33.160000  27.440329   \n",
       "3  2013-05-03  33.230000  33.520000  33.080002  33.490002  27.713415   \n",
       "4  2013-05-06  33.419998  33.910000  33.250000  33.750000  27.928564   \n",
       "\n",
       "     Volume Ticker  Sentiment_Score  New_Covid_Cases      MarketCap  \n",
       "0  75165200   MSFT             5.60              NaN  2396829515776  \n",
       "1  54330900   MSFT             0.04              NaN  2396829515776  \n",
       "2  46059500   MSFT             3.02              NaN  2396829515776  \n",
       "3  46784600   MSFT             2.66              NaN  2396829515776  \n",
       "4  40978300   MSFT             2.20              NaN  2396829515776  "
      ]
     },
     "execution_count": 8,
     "metadata": {},
     "output_type": "execute_result"
    }
   ],
   "source": [
    "# Convert the market_caps dictionary to a DataFrame\n",
    "df_market_caps = pd.DataFrame(list(market_caps.items()), columns=[\"Ticker\", \"MarketCap\"])\n",
    "\n",
    "# Merge the market_caps_df with merged_data using \"Ticker\" as key and \"left\" as the merge method\n",
    "merged_data = pd.merge(merged_data, df_market_caps, on=\"Ticker\", how=\"left\")\n",
    "merged_data.head()"
   ]
  },
  {
   "cell_type": "code",
   "execution_count": 9,
   "metadata": {},
   "outputs": [],
   "source": [
    "merged_data.to_csv(\"merged_data.csv\", index=False)"
   ]
  },
  {
   "cell_type": "code",
   "execution_count": null,
   "metadata": {},
   "outputs": [],
   "source": []
  }
 ],
 "metadata": {
  "kernelspec": {
   "display_name": "Python 3",
   "language": "python",
   "name": "python3"
  },
  "language_info": {
   "codemirror_mode": {
    "name": "ipython",
    "version": 3
   },
   "file_extension": ".py",
   "mimetype": "text/x-python",
   "name": "python",
   "nbconvert_exporter": "python",
   "pygments_lexer": "ipython3",
   "version": "3.7.6"
  }
 },
 "nbformat": 4,
 "nbformat_minor": 5
}
