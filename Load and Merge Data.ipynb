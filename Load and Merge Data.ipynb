{
 "cells": [
  {
   "cell_type": "markdown",
   "metadata": {},
   "source": [
    "# Load and Merge Data"
   ]
  },
  {
   "cell_type": "code",
   "execution_count": 7,
   "metadata": {},
   "outputs": [],
   "source": [
    "import pandas as pd\n",
    "import yfinance as yf\n",
    "\n",
    "# Load the news_data.csv file\n",
    "news_data = pd.read_csv('news_data.csv')\n",
    "\n",
    "# Load the stock_data.csv file\n",
    "stock_data = pd.read_csv('stock_data.csv')\n",
    "\n",
    "# Load the owid-covid-data.csv.csv file\n",
    "df_covid =describe.read_csv(\"owid-covid-data.csv\")\n",
    "\n",
    "\n",
    "# Merge the two datasets based on \"Date\" and \"Ticker\"\n",
    "merged_data = pd.merge(stock_data, news_data, on=[\"Date\", \"Ticker\"])\n",
    "\n",
    "\n",
    "\n",
    "# Filter the data for iso_code 'USA'\n",
    "df_covid = df_covid[df_covid['iso_code'] == 'USA']\n",
    "\n",
    "df_covid = df_covid[df_covid[\"date\"] <= \"2023-04-28\"]\n",
    "\n",
    "# Extract the day of the week for each date in the dataset\n",
    "df_covid['day_of_week'] = pd.to_datetime(df_covid['date']).dt.day_name()\n",
    "\n",
    "# Drop rows where day_of_week is either 'Saturday' or 'Sunday'\n",
    "df_covid = df_covid[~df_covid['day_of_week'].isin(['Saturday', 'Sunday'])]\n",
    "\n",
    "# Drop all columns in df_covid except for 'date' and 'new_cases'\n",
    "df_covid = df_covid[['date', 'new_cases']]\n",
    "\n",
    "# Rename the 'new_cases' column to 'new_covid_cases'\n",
    "df_covid = df_covid.rename(columns={\"new_cases\": \"New_Covid_Cases\"})\n",
    "\n",
    "# Rename the 'Sent' column to 'Sentiment_Score'\n",
    "merged_data.rename(columns={\"Sent\": \"Sentiment_Score\"}, inplace=True)\n",
    "\n",
    "\n",
    "merged_data = pd.merge(merged_data, df_covid, left_on=\"Date\", right_on=\"date\", how=\"left\")\n",
    "\n",
    "merged_data.drop(columns=[\"date\"], inplace=True)\n",
    "\n",
    "# List of tickers\n",
    "tickers = merged_data[\"Ticker\"].unique().tolist()\n",
    "\n",
    "# Fetch the market cap data\n",
    "market_caps = {}\n",
    "for ticker in tickers:\n",
    "    stock = yf.Ticker(ticker)\n",
    "    try:\n",
    "        market_caps[ticker] = stock.info['marketCap']\n",
    "    except:\n",
    "        market_caps[ticker] = None\n",
    "\n",
    "# Convert the market_caps dictionary to a DataFrame\n",
    "df_market_caps = pd.DataFrame(list(market_caps.items()), columns=[\"Ticker\", \"MarketCap\"])\n",
    "\n",
    "# Merge the market_caps_df with merged_data using \"Ticker\" as key and \"left\" as the merge method\n",
    "merged_data = pd.merge(merged_data, df_market_caps, on=\"Ticker\", how=\"left\")\n",
    "\n",
    "# merged_data.to_csv(\"merged_data.csv\", index=False)"
   ]
  },
  {
   "cell_type": "markdown",
   "metadata": {},
   "source": [
    "# Preprocessing"
   ]
  },
  {
   "cell_type": "markdown",
   "metadata": {},
   "source": [
    "## How to deal with missing values"
   ]
  },
  {
   "cell_type": "code",
   "execution_count": 15,
   "metadata": {},
   "outputs": [],
   "source": [
    "import pandas as pd\n",
    "\n",
    "# Load the dataset\n",
    "df = pd.read_csv(\"merged_data.csv\")\n",
    "\n",
    "# Calculate the number of missing values for each column\n",
    "missing_values = df.isnull().sum()\n",
    "\n",
    "# Sentiment_Score: 30,397 missing values\n",
    "# New_Covid_Cases: 150,833 missing values\n",
    "\n",
    "# Filling missing values in 'New_Covid_Cases' column with 0\n",
    "df['New_Covid_Cases'].fillna(0, inplace=True)\n",
    "\n",
    "# Drop rows where the Ticker is either \"PEP\" or \"ATVI\" because the two companies do not have sentiment score\n",
    "df = df[~df['Ticker'].isin([\"PEP\", \"ATVI\"])]\n",
    "\n",
    "# Filling missing values in 'Sentiment_Score' column with 0\n",
    "df['Sentiment_Score'].fillna(0, inplace=True)\n",
    "\n",
    "# df.to_csv(\"After_preprocessing.csv\", index=False)"
   ]
  },
  {
   "cell_type": "code",
   "execution_count": null,
   "metadata": {},
   "outputs": [],
   "source": []
  }
 ],
 "metadata": {
  "kernelspec": {
   "display_name": "Python 3",
   "language": "python",
   "name": "python3"
  },
  "language_info": {
   "codemirror_mode": {
    "name": "ipython",
    "version": 3
   },
   "file_extension": ".py",
   "mimetype": "text/x-python",
   "name": "python",
   "nbconvert_exporter": "python",
   "pygments_lexer": "ipython3",
   "version": "3.7.6"
  }
 },
 "nbformat": 4,
 "nbformat_minor": 5
}
