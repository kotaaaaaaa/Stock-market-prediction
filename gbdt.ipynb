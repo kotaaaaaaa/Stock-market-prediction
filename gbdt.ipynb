{
 "cells": [
  {
   "cell_type": "code",
   "execution_count": 1,
   "metadata": {},
   "outputs": [],
   "source": [
    "import seaborn as sns\n",
    "import pandas as pd\n",
    "import numpy as np\n",
    "from sklearn.preprocessing import OrdinalEncoder\n",
    "from sklearn.model_selection import train_test_split\n",
    "from sklearn.metrics import roc_auc_score\n",
    "# !pip install xgboost\n",
    "import xgboost\n",
    "from xgboost import XGBClassifier\n",
    "# !pip install lightgbm\n",
    "import lightgbm as lgb\n",
    "# !pip install catboost\n",
    "from catboost import CatBoostClassifier, Pool"
   ]
  },
  {
   "cell_type": "code",
   "execution_count": 3,
   "metadata": {},
   "outputs": [
    {
     "name": "stdout",
     "output_type": "stream",
     "text": [
      "Requirement already satisfied: scikit-learn in /opt/anaconda3/lib/python3.7/site-packages (1.0.2)\n",
      "Requirement already satisfied: numpy>=1.14.6 in /opt/anaconda3/lib/python3.7/site-packages (from scikit-learn) (1.18.1)\n",
      "Requirement already satisfied: scipy>=1.1.0 in /opt/anaconda3/lib/python3.7/site-packages (from scikit-learn) (1.4.1)\n",
      "Requirement already satisfied: joblib>=0.11 in /opt/anaconda3/lib/python3.7/site-packages (from scikit-learn) (0.14.1)\n",
      "Requirement already satisfied: threadpoolctl>=2.0.0 in /opt/anaconda3/lib/python3.7/site-packages (from scikit-learn) (3.1.0)\n",
      "\u001b[33mDEPRECATION: pyodbc 4.0.0-unsupported has a non-standard version number. pip 23.3 will enforce this behaviour change. A possible replacement is to upgrade to a newer version of pyodbc or contact the author to suggest that they release a version with a conforming version number. Discussion can be found at https://github.com/pypa/pip/issues/12063\u001b[0m\u001b[33m\n",
      "\u001b[0m\u001b[33mWARNING: Running pip as the 'root' user can result in broken permissions and conflicting behaviour with the system package manager. It is recommended to use a virtual environment instead: https://pip.pypa.io/warnings/venv\u001b[0m\u001b[33m\n",
      "\u001b[0m"
     ]
    }
   ],
   "source": [
    "!pip install --upgrade scikit-learn"
   ]
  },
  {
   "cell_type": "code",
   "execution_count": 3,
   "metadata": {},
   "outputs": [],
   "source": [
    "# データ準備\n",
    "df = sns.load_dataset('titanic')\n",
    "df.dropna(inplace=True)\n",
    "# X, yを作成\n",
    "X = df.drop(['survived', 'alive'], axis=1)\n",
    "y = df['survived']\n",
    "# ラベルエンコーディング\n",
    "oe = OrdinalEncoder()\n",
    "cat_cols = X.select_dtypes(exclude=np.number).columns.to_list()\n",
    "X[cat_cols] = oe.fit_transform(X[cat_cols])\n",
    "# hold-out\n",
    "X_train, X_test, y_train, y_test = train_test_split(X, y, test_size=0.3, random_state=0)"
   ]
  },
  {
   "cell_type": "markdown",
   "metadata": {
    "tags": []
   },
   "source": [
    "## XGBoost"
   ]
  },
  {
   "cell_type": "code",
   "execution_count": 4,
   "metadata": {},
   "outputs": [
    {
     "name": "stdout",
     "output_type": "stream",
     "text": [
      "[0]\tvalidation_0-auc:0.89904\n",
      "[1]\tvalidation_0-auc:0.89663\n",
      "[2]\tvalidation_0-auc:0.89663\n",
      "[3]\tvalidation_0-auc:0.89663\n",
      "[4]\tvalidation_0-auc:0.89663\n",
      "[5]\tvalidation_0-auc:0.89663\n",
      "[6]\tvalidation_0-auc:0.89103\n",
      "[7]\tvalidation_0-auc:0.89103\n",
      "[8]\tvalidation_0-auc:0.88942\n",
      "[9]\tvalidation_0-auc:0.89103\n"
     ]
    },
    {
     "data": {
      "text/plain": [
       "XGBClassifier(base_score=0.5, booster='gbtree', callbacks=None,\n",
       "              colsample_bylevel=1, colsample_bynode=1, colsample_bytree=1,\n",
       "              early_stopping_rounds=10, enable_categorical=False,\n",
       "              eval_metric='auc', gamma=0, gpu_id=-1, grow_policy='depthwise',\n",
       "              importance_type='total_gain', interaction_constraints='',\n",
       "              learning_rate=0.01, max_bin=256, max_cat_to_onehot=4,\n",
       "              max_delta_step=0, max_depth=6, max_leaves=0, min_child_weight=1,\n",
       "              missing=nan, monotone_constraints='()', n_estimators=100,\n",
       "              n_jobs=0, num_parallel_tree=1, predictor='auto', random_state=0,\n",
       "              reg_alpha=0, reg_lambda=1, ...)"
      ]
     },
     "execution_count": 4,
     "metadata": {},
     "output_type": "execute_result"
    }
   ],
   "source": [
    "xgb = XGBClassifier(learning_rate=0.01,\n",
    "              eval_metric='auc',\n",
    "              early_stopping_rounds=10,\n",
    "              importance_type='total_gain',\n",
    "              random_state=0)\n",
    "# 学習\n",
    "xgb.fit(X_train, y_train, eval_set=[(X_test, y_test)], verbose=True)"
   ]
  },
  {
   "cell_type": "code",
   "execution_count": 5,
   "metadata": {},
   "outputs": [
    {
     "name": "stdout",
     "output_type": "stream",
     "text": [
      "xgboost AUC: 0.8990384615384616\n"
     ]
    }
   ],
   "source": [
    "# 予測と評価\n",
    "y_pred_xgb = xgb.predict_proba(X_test)\n",
    "print(f\"xgboost AUC: {roc_auc_score(y_test, y_pred_xgb[:, 1])}\")"
   ]
  },
  {
   "cell_type": "code",
   "execution_count": 6,
   "metadata": {},
   "outputs": [
    {
     "data": {
      "text/plain": [
       "array([0.        , 0.        , 0.10952041, 0.        , 0.        ,\n",
       "       0.22573482, 0.        , 0.        , 0.        , 0.59854376,\n",
       "       0.05928717, 0.        , 0.00691384], dtype=float32)"
      ]
     },
     "execution_count": 6,
     "metadata": {},
     "output_type": "execute_result"
    }
   ],
   "source": [
    "# 特徴量の重要度\n",
    "xgb.feature_importances_"
   ]
  },
  {
   "cell_type": "code",
   "execution_count": 7,
   "metadata": {},
   "outputs": [
    {
     "ename": "ExecutableNotFound",
     "evalue": "failed to execute PosixPath('dot'), make sure the Graphviz executables are on your systems' PATH",
     "output_type": "error",
     "traceback": [
      "\u001b[0;31m---------------------------------------------------------------------------\u001b[0m",
      "\u001b[0;31mFileNotFoundError\u001b[0m                         Traceback (most recent call last)",
      "\u001b[0;32m/opt/anaconda3/lib/python3.7/site-packages/graphviz/backend/execute.py\u001b[0m in \u001b[0;36mrun_check\u001b[0;34m(cmd, input_lines, encoding, quiet, **kwargs)\u001b[0m\n\u001b[1;32m     78\u001b[0m                 \u001b[0mkwargs\u001b[0m\u001b[0;34m[\u001b[0m\u001b[0;34m'stdout'\u001b[0m\u001b[0;34m]\u001b[0m \u001b[0;34m=\u001b[0m \u001b[0mkwargs\u001b[0m\u001b[0;34m[\u001b[0m\u001b[0;34m'stderr'\u001b[0m\u001b[0;34m]\u001b[0m \u001b[0;34m=\u001b[0m \u001b[0msubprocess\u001b[0m\u001b[0;34m.\u001b[0m\u001b[0mPIPE\u001b[0m\u001b[0;34m\u001b[0m\u001b[0;34m\u001b[0m\u001b[0m\n\u001b[0;32m---> 79\u001b[0;31m             \u001b[0mproc\u001b[0m \u001b[0;34m=\u001b[0m \u001b[0m_run_input_lines\u001b[0m\u001b[0;34m(\u001b[0m\u001b[0mcmd\u001b[0m\u001b[0;34m,\u001b[0m \u001b[0minput_lines\u001b[0m\u001b[0;34m,\u001b[0m \u001b[0mkwargs\u001b[0m\u001b[0;34m=\u001b[0m\u001b[0mkwargs\u001b[0m\u001b[0;34m)\u001b[0m\u001b[0;34m\u001b[0m\u001b[0;34m\u001b[0m\u001b[0m\n\u001b[0m\u001b[1;32m     80\u001b[0m         \u001b[0;32melse\u001b[0m\u001b[0;34m:\u001b[0m\u001b[0;34m\u001b[0m\u001b[0;34m\u001b[0m\u001b[0m\n",
      "\u001b[0;32m/opt/anaconda3/lib/python3.7/site-packages/graphviz/backend/execute.py\u001b[0m in \u001b[0;36m_run_input_lines\u001b[0;34m(cmd, input_lines, kwargs)\u001b[0m\n\u001b[1;32m     98\u001b[0m \u001b[0;32mdef\u001b[0m \u001b[0m_run_input_lines\u001b[0m\u001b[0;34m(\u001b[0m\u001b[0mcmd\u001b[0m\u001b[0;34m,\u001b[0m \u001b[0minput_lines\u001b[0m\u001b[0;34m,\u001b[0m \u001b[0;34m*\u001b[0m\u001b[0;34m,\u001b[0m \u001b[0mkwargs\u001b[0m\u001b[0;34m)\u001b[0m\u001b[0;34m:\u001b[0m\u001b[0;34m\u001b[0m\u001b[0;34m\u001b[0m\u001b[0m\n\u001b[0;32m---> 99\u001b[0;31m     \u001b[0mpopen\u001b[0m \u001b[0;34m=\u001b[0m \u001b[0msubprocess\u001b[0m\u001b[0;34m.\u001b[0m\u001b[0mPopen\u001b[0m\u001b[0;34m(\u001b[0m\u001b[0mcmd\u001b[0m\u001b[0;34m,\u001b[0m \u001b[0mstdin\u001b[0m\u001b[0;34m=\u001b[0m\u001b[0msubprocess\u001b[0m\u001b[0;34m.\u001b[0m\u001b[0mPIPE\u001b[0m\u001b[0;34m,\u001b[0m \u001b[0;34m**\u001b[0m\u001b[0mkwargs\u001b[0m\u001b[0;34m)\u001b[0m\u001b[0;34m\u001b[0m\u001b[0;34m\u001b[0m\u001b[0m\n\u001b[0m\u001b[1;32m    100\u001b[0m \u001b[0;34m\u001b[0m\u001b[0m\n",
      "\u001b[0;32m/opt/anaconda3/lib/python3.7/subprocess.py\u001b[0m in \u001b[0;36m__init__\u001b[0;34m(self, args, bufsize, executable, stdin, stdout, stderr, preexec_fn, close_fds, shell, cwd, env, universal_newlines, startupinfo, creationflags, restore_signals, start_new_session, pass_fds, encoding, errors, text)\u001b[0m\n\u001b[1;32m    799\u001b[0m                                 \u001b[0merrread\u001b[0m\u001b[0;34m,\u001b[0m \u001b[0merrwrite\u001b[0m\u001b[0;34m,\u001b[0m\u001b[0;34m\u001b[0m\u001b[0;34m\u001b[0m\u001b[0m\n\u001b[0;32m--> 800\u001b[0;31m                                 restore_signals, start_new_session)\n\u001b[0m\u001b[1;32m    801\u001b[0m         \u001b[0;32mexcept\u001b[0m\u001b[0;34m:\u001b[0m\u001b[0;34m\u001b[0m\u001b[0;34m\u001b[0m\u001b[0m\n",
      "\u001b[0;32m/opt/anaconda3/lib/python3.7/subprocess.py\u001b[0m in \u001b[0;36m_execute_child\u001b[0;34m(self, args, executable, preexec_fn, close_fds, pass_fds, cwd, env, startupinfo, creationflags, shell, p2cread, p2cwrite, c2pread, c2pwrite, errread, errwrite, restore_signals, start_new_session)\u001b[0m\n\u001b[1;32m   1550\u001b[0m                             \u001b[0merr_msg\u001b[0m \u001b[0;34m+=\u001b[0m \u001b[0;34m': '\u001b[0m \u001b[0;34m+\u001b[0m \u001b[0mrepr\u001b[0m\u001b[0;34m(\u001b[0m\u001b[0merr_filename\u001b[0m\u001b[0;34m)\u001b[0m\u001b[0;34m\u001b[0m\u001b[0;34m\u001b[0m\u001b[0m\n\u001b[0;32m-> 1551\u001b[0;31m                     \u001b[0;32mraise\u001b[0m \u001b[0mchild_exception_type\u001b[0m\u001b[0;34m(\u001b[0m\u001b[0merrno_num\u001b[0m\u001b[0;34m,\u001b[0m \u001b[0merr_msg\u001b[0m\u001b[0;34m,\u001b[0m \u001b[0merr_filename\u001b[0m\u001b[0;34m)\u001b[0m\u001b[0;34m\u001b[0m\u001b[0;34m\u001b[0m\u001b[0m\n\u001b[0m\u001b[1;32m   1552\u001b[0m                 \u001b[0;32mraise\u001b[0m \u001b[0mchild_exception_type\u001b[0m\u001b[0;34m(\u001b[0m\u001b[0merr_msg\u001b[0m\u001b[0;34m)\u001b[0m\u001b[0;34m\u001b[0m\u001b[0;34m\u001b[0m\u001b[0m\n",
      "\u001b[0;31mFileNotFoundError\u001b[0m: [Errno 2] No such file or directory: PosixPath('dot'): PosixPath('dot')",
      "\nThe above exception was the direct cause of the following exception:\n",
      "\u001b[0;31mExecutableNotFound\u001b[0m                        Traceback (most recent call last)",
      "\u001b[0;32m<ipython-input-7-3ffedc5b7ee7>\u001b[0m in \u001b[0;36m<module>\u001b[0;34m\u001b[0m\n\u001b[1;32m      1\u001b[0m \u001b[0;31m# 弱学習器の木構造を描画\u001b[0m\u001b[0;34m\u001b[0m\u001b[0;34m\u001b[0m\u001b[0;34m\u001b[0m\u001b[0m\n\u001b[0;32m----> 2\u001b[0;31m \u001b[0mxgboost\u001b[0m\u001b[0;34m.\u001b[0m\u001b[0mplot_tree\u001b[0m\u001b[0;34m(\u001b[0m\u001b[0mxgb\u001b[0m\u001b[0;34m,\u001b[0m \u001b[0mnum_trees\u001b[0m\u001b[0;34m=\u001b[0m\u001b[0;36m0\u001b[0m\u001b[0;34m)\u001b[0m\u001b[0;34m\u001b[0m\u001b[0;34m\u001b[0m\u001b[0m\n\u001b[0m",
      "\u001b[0;32m/opt/anaconda3/lib/python3.7/site-packages/xgboost/plotting.py\u001b[0m in \u001b[0;36mplot_tree\u001b[0;34m(booster, fmap, num_trees, rankdir, ax, **kwargs)\u001b[0m\n\u001b[1;32m    249\u001b[0m \u001b[0;34m\u001b[0m\u001b[0m\n\u001b[1;32m    250\u001b[0m     \u001b[0ms\u001b[0m \u001b[0;34m=\u001b[0m \u001b[0mBytesIO\u001b[0m\u001b[0;34m(\u001b[0m\u001b[0;34m)\u001b[0m\u001b[0;34m\u001b[0m\u001b[0;34m\u001b[0m\u001b[0m\n\u001b[0;32m--> 251\u001b[0;31m     \u001b[0ms\u001b[0m\u001b[0;34m.\u001b[0m\u001b[0mwrite\u001b[0m\u001b[0;34m(\u001b[0m\u001b[0mg\u001b[0m\u001b[0;34m.\u001b[0m\u001b[0mpipe\u001b[0m\u001b[0;34m(\u001b[0m\u001b[0mformat\u001b[0m\u001b[0;34m=\u001b[0m\u001b[0;34m'png'\u001b[0m\u001b[0;34m)\u001b[0m\u001b[0;34m)\u001b[0m\u001b[0;34m\u001b[0m\u001b[0;34m\u001b[0m\u001b[0m\n\u001b[0m\u001b[1;32m    252\u001b[0m     \u001b[0ms\u001b[0m\u001b[0;34m.\u001b[0m\u001b[0mseek\u001b[0m\u001b[0;34m(\u001b[0m\u001b[0;36m0\u001b[0m\u001b[0;34m)\u001b[0m\u001b[0;34m\u001b[0m\u001b[0;34m\u001b[0m\u001b[0m\n\u001b[1;32m    253\u001b[0m     \u001b[0mimg\u001b[0m \u001b[0;34m=\u001b[0m \u001b[0mimage\u001b[0m\u001b[0;34m.\u001b[0m\u001b[0mimread\u001b[0m\u001b[0;34m(\u001b[0m\u001b[0ms\u001b[0m\u001b[0;34m)\u001b[0m\u001b[0;34m\u001b[0m\u001b[0;34m\u001b[0m\u001b[0m\n",
      "\u001b[0;32m/opt/anaconda3/lib/python3.7/site-packages/graphviz/piping.py\u001b[0m in \u001b[0;36mpipe\u001b[0;34m(self, format, renderer, formatter, neato_no_op, quiet, engine, encoding)\u001b[0m\n\u001b[1;32m    108\u001b[0m                                  \u001b[0mquiet\u001b[0m\u001b[0;34m=\u001b[0m\u001b[0mquiet\u001b[0m\u001b[0;34m,\u001b[0m\u001b[0;34m\u001b[0m\u001b[0;34m\u001b[0m\u001b[0m\n\u001b[1;32m    109\u001b[0m                                  \u001b[0mengine\u001b[0m\u001b[0;34m=\u001b[0m\u001b[0mengine\u001b[0m\u001b[0;34m,\u001b[0m\u001b[0;34m\u001b[0m\u001b[0;34m\u001b[0m\u001b[0m\n\u001b[0;32m--> 110\u001b[0;31m                                  encoding=encoding)\n\u001b[0m\u001b[1;32m    111\u001b[0m \u001b[0;34m\u001b[0m\u001b[0m\n\u001b[1;32m    112\u001b[0m     \u001b[0;34m@\u001b[0m\u001b[0m_tools\u001b[0m\u001b[0;34m.\u001b[0m\u001b[0mdeprecate_positional_args\u001b[0m\u001b[0;34m(\u001b[0m\u001b[0msupported_number\u001b[0m\u001b[0;34m=\u001b[0m\u001b[0;36m2\u001b[0m\u001b[0;34m)\u001b[0m\u001b[0;34m\u001b[0m\u001b[0;34m\u001b[0m\u001b[0m\n",
      "\u001b[0;32m/opt/anaconda3/lib/python3.7/site-packages/graphviz/_tools.py\u001b[0m in \u001b[0;36mwrapper\u001b[0;34m(*args, **kwargs)\u001b[0m\n\u001b[1;32m    169\u001b[0m                               category=category)\n\u001b[1;32m    170\u001b[0m \u001b[0;34m\u001b[0m\u001b[0m\n\u001b[0;32m--> 171\u001b[0;31m             \u001b[0;32mreturn\u001b[0m \u001b[0mfunc\u001b[0m\u001b[0;34m(\u001b[0m\u001b[0;34m*\u001b[0m\u001b[0margs\u001b[0m\u001b[0;34m,\u001b[0m \u001b[0;34m**\u001b[0m\u001b[0mkwargs\u001b[0m\u001b[0;34m)\u001b[0m\u001b[0;34m\u001b[0m\u001b[0;34m\u001b[0m\u001b[0m\n\u001b[0m\u001b[1;32m    172\u001b[0m \u001b[0;34m\u001b[0m\u001b[0m\n\u001b[1;32m    173\u001b[0m         \u001b[0;32mreturn\u001b[0m \u001b[0mwrapper\u001b[0m\u001b[0;34m\u001b[0m\u001b[0;34m\u001b[0m\u001b[0m\n",
      "\u001b[0;32m/opt/anaconda3/lib/python3.7/site-packages/graphviz/piping.py\u001b[0m in \u001b[0;36m_pipe_legacy\u001b[0;34m(self, format, renderer, formatter, neato_no_op, quiet, engine, encoding)\u001b[0m\n\u001b[1;32m    125\u001b[0m                                  \u001b[0mquiet\u001b[0m\u001b[0;34m=\u001b[0m\u001b[0mquiet\u001b[0m\u001b[0;34m,\u001b[0m\u001b[0;34m\u001b[0m\u001b[0;34m\u001b[0m\u001b[0m\n\u001b[1;32m    126\u001b[0m                                  \u001b[0mengine\u001b[0m\u001b[0;34m=\u001b[0m\u001b[0mengine\u001b[0m\u001b[0;34m,\u001b[0m\u001b[0;34m\u001b[0m\u001b[0;34m\u001b[0m\u001b[0m\n\u001b[0;32m--> 127\u001b[0;31m                                  encoding=encoding)\n\u001b[0m\u001b[1;32m    128\u001b[0m \u001b[0;34m\u001b[0m\u001b[0m\n\u001b[1;32m    129\u001b[0m     def _pipe_future(self, format: typing.Optional[str] = None, *,\n",
      "\u001b[0;32m/opt/anaconda3/lib/python3.7/site-packages/graphviz/piping.py\u001b[0m in \u001b[0;36m_pipe_future\u001b[0;34m(self, format, renderer, formatter, neato_no_op, quiet, engine, encoding)\u001b[0m\n\u001b[1;32m    159\u001b[0m             \u001b[0;32melse\u001b[0m\u001b[0;34m:\u001b[0m\u001b[0;34m\u001b[0m\u001b[0;34m\u001b[0m\u001b[0m\n\u001b[1;32m    160\u001b[0m                 \u001b[0;32mreturn\u001b[0m \u001b[0mraw\u001b[0m\u001b[0;34m.\u001b[0m\u001b[0mdecode\u001b[0m\u001b[0;34m(\u001b[0m\u001b[0mencoding\u001b[0m\u001b[0;34m)\u001b[0m\u001b[0;34m\u001b[0m\u001b[0;34m\u001b[0m\u001b[0m\n\u001b[0;32m--> 161\u001b[0;31m         \u001b[0;32mreturn\u001b[0m \u001b[0mself\u001b[0m\u001b[0;34m.\u001b[0m\u001b[0m_pipe_lines\u001b[0m\u001b[0;34m(\u001b[0m\u001b[0;34m*\u001b[0m\u001b[0margs\u001b[0m\u001b[0;34m,\u001b[0m \u001b[0minput_encoding\u001b[0m\u001b[0;34m=\u001b[0m\u001b[0mself\u001b[0m\u001b[0;34m.\u001b[0m\u001b[0mencoding\u001b[0m\u001b[0;34m,\u001b[0m \u001b[0;34m**\u001b[0m\u001b[0mkwargs\u001b[0m\u001b[0;34m)\u001b[0m\u001b[0;34m\u001b[0m\u001b[0;34m\u001b[0m\u001b[0m\n\u001b[0m",
      "\u001b[0;32m/opt/anaconda3/lib/python3.7/site-packages/graphviz/backend/piping.py\u001b[0m in \u001b[0;36mpipe_lines\u001b[0;34m(engine, format, input_lines, input_encoding, renderer, formatter, neato_no_op, quiet)\u001b[0m\n\u001b[1;32m    159\u001b[0m     \u001b[0mkwargs\u001b[0m \u001b[0;34m=\u001b[0m \u001b[0;34m{\u001b[0m\u001b[0;34m'input_lines'\u001b[0m\u001b[0;34m:\u001b[0m \u001b[0;34m(\u001b[0m\u001b[0mline\u001b[0m\u001b[0;34m.\u001b[0m\u001b[0mencode\u001b[0m\u001b[0;34m(\u001b[0m\u001b[0minput_encoding\u001b[0m\u001b[0;34m)\u001b[0m \u001b[0;32mfor\u001b[0m \u001b[0mline\u001b[0m \u001b[0;32min\u001b[0m \u001b[0minput_lines\u001b[0m\u001b[0;34m)\u001b[0m\u001b[0;34m}\u001b[0m\u001b[0;34m\u001b[0m\u001b[0;34m\u001b[0m\u001b[0m\n\u001b[1;32m    160\u001b[0m \u001b[0;34m\u001b[0m\u001b[0m\n\u001b[0;32m--> 161\u001b[0;31m     \u001b[0mproc\u001b[0m \u001b[0;34m=\u001b[0m \u001b[0mexecute\u001b[0m\u001b[0;34m.\u001b[0m\u001b[0mrun_check\u001b[0m\u001b[0;34m(\u001b[0m\u001b[0mcmd\u001b[0m\u001b[0;34m,\u001b[0m \u001b[0mcapture_output\u001b[0m\u001b[0;34m=\u001b[0m\u001b[0;32mTrue\u001b[0m\u001b[0;34m,\u001b[0m \u001b[0mquiet\u001b[0m\u001b[0;34m=\u001b[0m\u001b[0mquiet\u001b[0m\u001b[0;34m,\u001b[0m \u001b[0;34m**\u001b[0m\u001b[0mkwargs\u001b[0m\u001b[0;34m)\u001b[0m\u001b[0;34m\u001b[0m\u001b[0;34m\u001b[0m\u001b[0m\n\u001b[0m\u001b[1;32m    162\u001b[0m     \u001b[0;32mreturn\u001b[0m \u001b[0mproc\u001b[0m\u001b[0;34m.\u001b[0m\u001b[0mstdout\u001b[0m\u001b[0;34m\u001b[0m\u001b[0;34m\u001b[0m\u001b[0m\n\u001b[1;32m    163\u001b[0m \u001b[0;34m\u001b[0m\u001b[0m\n",
      "\u001b[0;32m/opt/anaconda3/lib/python3.7/site-packages/graphviz/backend/execute.py\u001b[0m in \u001b[0;36mrun_check\u001b[0;34m(cmd, input_lines, encoding, quiet, **kwargs)\u001b[0m\n\u001b[1;32m     82\u001b[0m     \u001b[0;32mexcept\u001b[0m \u001b[0mOSError\u001b[0m \u001b[0;32mas\u001b[0m \u001b[0me\u001b[0m\u001b[0;34m:\u001b[0m\u001b[0;34m\u001b[0m\u001b[0;34m\u001b[0m\u001b[0m\n\u001b[1;32m     83\u001b[0m         \u001b[0;32mif\u001b[0m \u001b[0me\u001b[0m\u001b[0;34m.\u001b[0m\u001b[0merrno\u001b[0m \u001b[0;34m==\u001b[0m \u001b[0merrno\u001b[0m\u001b[0;34m.\u001b[0m\u001b[0mENOENT\u001b[0m\u001b[0;34m:\u001b[0m\u001b[0;34m\u001b[0m\u001b[0;34m\u001b[0m\u001b[0m\n\u001b[0;32m---> 84\u001b[0;31m             \u001b[0;32mraise\u001b[0m \u001b[0mExecutableNotFound\u001b[0m\u001b[0;34m(\u001b[0m\u001b[0mcmd\u001b[0m\u001b[0;34m)\u001b[0m \u001b[0;32mfrom\u001b[0m \u001b[0me\u001b[0m\u001b[0;34m\u001b[0m\u001b[0;34m\u001b[0m\u001b[0m\n\u001b[0m\u001b[1;32m     85\u001b[0m         \u001b[0;32mraise\u001b[0m\u001b[0;34m\u001b[0m\u001b[0;34m\u001b[0m\u001b[0m\n\u001b[1;32m     86\u001b[0m \u001b[0;34m\u001b[0m\u001b[0m\n",
      "\u001b[0;31mExecutableNotFound\u001b[0m: failed to execute PosixPath('dot'), make sure the Graphviz executables are on your systems' PATH"
     ]
    },
    {
     "data": {
      "image/png": "[encoded data removed]",
      "text/plain": [
       "<Figure size 432x288 with 1 Axes>"
      ]
     },
     "metadata": {
      "needs_background": "light"
     },
     "output_type": "display_data"
    }
   ],
   "source": [
    "# 弱学習器の木構造を描画\n",
    "xgboost.plot_tree(xgb, num_trees=0)"
   ]
  },
  {
   "cell_type": "markdown",
   "metadata": {},
   "source": [
    "### LightGBM"
   ]
  },
  {
   "cell_type": "code",
   "execution_count": null,
   "metadata": {},
   "outputs": [],
   "source": [
    "lgbmc = lgb.LGBMClassifier(boosting_type='goss', max_depth=5, random_state=0)\n",
    "# early stoppingに使用する検証データ\n",
    "eval_set = [(X_test, y_test)]\n",
    "# イテレーション時に実施(callback)する関数\n",
    "callbacks = []\n",
    "callbacks.append(lgb.early_stopping(stopping_rounds=10))\n",
    "callbacks.append(lgb.log_evaluation())\n",
    "# 学習\n",
    "lgbmc.fit(X_train, y_train, eval_set=eval_set, callbacks=callbacks)"
   ]
  },
  {
   "cell_type": "code",
   "execution_count": null,
   "metadata": {},
   "outputs": [],
   "source": [
    "# 予測と評価\n",
    "y_pred_lgbmc = lgbmc.predict_proba(X_test)\n",
    "print(f\"light gbm AUC: {roc_auc_score(y_test, y_pred_lgbmc[:, 1])}\")"
   ]
  },
  {
   "cell_type": "code",
   "execution_count": 12,
   "metadata": {},
   "outputs": [
    {
     "ename": "NotFittedError",
     "evalue": "No results found. Need to call fit with eval_set beforehand.",
     "output_type": "error",
     "traceback": [
      "\u001b[0;31m---------------------------------------------------------------------------\u001b[0m",
      "\u001b[0;31mNotFittedError\u001b[0m                            Traceback (most recent call last)",
      "\u001b[0;32m<ipython-input-12-21d8a506a7a6>\u001b[0m in \u001b[0;36m<module>\u001b[0;34m\u001b[0m\n\u001b[1;32m      1\u001b[0m \u001b[0;31m# 学習曲線\u001b[0m\u001b[0;34m\u001b[0m\u001b[0;34m\u001b[0m\u001b[0;34m\u001b[0m\u001b[0m\n\u001b[0;32m----> 2\u001b[0;31m \u001b[0mlgb\u001b[0m\u001b[0;34m.\u001b[0m\u001b[0mplot_metric\u001b[0m\u001b[0;34m(\u001b[0m\u001b[0mlgbmc\u001b[0m\u001b[0;34m)\u001b[0m\u001b[0;34m\u001b[0m\u001b[0;34m\u001b[0m\u001b[0m\n\u001b[0m",
      "\u001b[0;32m/opt/anaconda3/lib/python3.7/site-packages/lightgbm/plotting.py\u001b[0m in \u001b[0;36mplot_metric\u001b[0;34m(booster, metric, dataset_names, ax, xlim, ylim, title, xlabel, ylabel, figsize, dpi, grid)\u001b[0m\n\u001b[1;32m    349\u001b[0m \u001b[0;34m\u001b[0m\u001b[0m\n\u001b[1;32m    350\u001b[0m     \u001b[0;32mif\u001b[0m \u001b[0misinstance\u001b[0m\u001b[0;34m(\u001b[0m\u001b[0mbooster\u001b[0m\u001b[0;34m,\u001b[0m \u001b[0mLGBMModel\u001b[0m\u001b[0;34m)\u001b[0m\u001b[0;34m:\u001b[0m\u001b[0;34m\u001b[0m\u001b[0;34m\u001b[0m\u001b[0m\n\u001b[0;32m--> 351\u001b[0;31m         \u001b[0meval_results\u001b[0m \u001b[0;34m=\u001b[0m \u001b[0mdeepcopy\u001b[0m\u001b[0;34m(\u001b[0m\u001b[0mbooster\u001b[0m\u001b[0;34m.\u001b[0m\u001b[0mevals_result_\u001b[0m\u001b[0;34m)\u001b[0m\u001b[0;34m\u001b[0m\u001b[0;34m\u001b[0m\u001b[0m\n\u001b[0m\u001b[1;32m    352\u001b[0m     \u001b[0;32melif\u001b[0m \u001b[0misinstance\u001b[0m\u001b[0;34m(\u001b[0m\u001b[0mbooster\u001b[0m\u001b[0;34m,\u001b[0m \u001b[0mdict\u001b[0m\u001b[0;34m)\u001b[0m\u001b[0;34m:\u001b[0m\u001b[0;34m\u001b[0m\u001b[0;34m\u001b[0m\u001b[0m\n\u001b[1;32m    353\u001b[0m         \u001b[0meval_results\u001b[0m \u001b[0;34m=\u001b[0m \u001b[0mdeepcopy\u001b[0m\u001b[0;34m(\u001b[0m\u001b[0mbooster\u001b[0m\u001b[0;34m)\u001b[0m\u001b[0;34m\u001b[0m\u001b[0;34m\u001b[0m\u001b[0m\n",
      "\u001b[0;32m/opt/anaconda3/lib/python3.7/site-packages/lightgbm/sklearn.py\u001b[0m in \u001b[0;36mevals_result_\u001b[0;34m(self)\u001b[0m\n\u001b[1;32m   1003\u001b[0m         \u001b[0;34m\"\"\":obj:`dict`: The evaluation results if validation sets have been specified.\"\"\"\u001b[0m\u001b[0;34m\u001b[0m\u001b[0;34m\u001b[0m\u001b[0m\n\u001b[1;32m   1004\u001b[0m         \u001b[0;32mif\u001b[0m \u001b[0;32mnot\u001b[0m \u001b[0mself\u001b[0m\u001b[0;34m.\u001b[0m\u001b[0m__sklearn_is_fitted__\u001b[0m\u001b[0;34m(\u001b[0m\u001b[0;34m)\u001b[0m\u001b[0;34m:\u001b[0m\u001b[0;34m\u001b[0m\u001b[0;34m\u001b[0m\u001b[0m\n\u001b[0;32m-> 1005\u001b[0;31m             \u001b[0;32mraise\u001b[0m \u001b[0mLGBMNotFittedError\u001b[0m\u001b[0;34m(\u001b[0m\u001b[0;34m'No results found. Need to call fit with eval_set beforehand.'\u001b[0m\u001b[0;34m)\u001b[0m\u001b[0;34m\u001b[0m\u001b[0;34m\u001b[0m\u001b[0m\n\u001b[0m\u001b[1;32m   1006\u001b[0m         \u001b[0;32mreturn\u001b[0m \u001b[0mself\u001b[0m\u001b[0;34m.\u001b[0m\u001b[0m_evals_result\u001b[0m\u001b[0;34m\u001b[0m\u001b[0;34m\u001b[0m\u001b[0m\n\u001b[1;32m   1007\u001b[0m \u001b[0;34m\u001b[0m\u001b[0m\n",
      "\u001b[0;31mNotFittedError\u001b[0m: No results found. Need to call fit with eval_set beforehand."
     ]
    }
   ],
   "source": [
    "# 学習曲線\n",
    "lgb.plot_metric(lgbmc)"
   ]
  },
  {
   "cell_type": "code",
   "execution_count": 13,
   "metadata": {},
   "outputs": [
    {
     "ename": "NotFittedError",
     "evalue": "No booster found. Need to call fit beforehand.",
     "output_type": "error",
     "traceback": [
      "\u001b[0;31m---------------------------------------------------------------------------\u001b[0m",
      "\u001b[0;31mNotFittedError\u001b[0m                            Traceback (most recent call last)",
      "\u001b[0;32m<ipython-input-13-a66db6564c2e>\u001b[0m in \u001b[0;36m<module>\u001b[0;34m\u001b[0m\n\u001b[1;32m      1\u001b[0m \u001b[0;31m# 弱学習器の木構造を描画\u001b[0m\u001b[0;34m\u001b[0m\u001b[0;34m\u001b[0m\u001b[0;34m\u001b[0m\u001b[0m\n\u001b[0;32m----> 2\u001b[0;31m \u001b[0mlgb\u001b[0m\u001b[0;34m.\u001b[0m\u001b[0mplot_tree\u001b[0m\u001b[0;34m(\u001b[0m\u001b[0mlgbmc\u001b[0m\u001b[0;34m,\u001b[0m \u001b[0mtree_index\u001b[0m\u001b[0;34m=\u001b[0m\u001b[0;36m0\u001b[0m\u001b[0;34m)\u001b[0m\u001b[0;34m\u001b[0m\u001b[0;34m\u001b[0m\u001b[0m\n\u001b[0m",
      "\u001b[0;32m/opt/anaconda3/lib/python3.7/site-packages/lightgbm/plotting.py\u001b[0m in \u001b[0;36mplot_tree\u001b[0;34m(booster, ax, tree_index, figsize, dpi, show_info, precision, orientation, example_case, **kwargs)\u001b[0m\n\u001b[1;32m    823\u001b[0m     graph = create_tree_digraph(booster=booster, tree_index=tree_index,\n\u001b[1;32m    824\u001b[0m                                 \u001b[0mshow_info\u001b[0m\u001b[0;34m=\u001b[0m\u001b[0mshow_info\u001b[0m\u001b[0;34m,\u001b[0m \u001b[0mprecision\u001b[0m\u001b[0;34m=\u001b[0m\u001b[0mprecision\u001b[0m\u001b[0;34m,\u001b[0m\u001b[0;34m\u001b[0m\u001b[0;34m\u001b[0m\u001b[0m\n\u001b[0;32m--> 825\u001b[0;31m                                 orientation=orientation, example_case=example_case, **kwargs)\n\u001b[0m\u001b[1;32m    826\u001b[0m \u001b[0;34m\u001b[0m\u001b[0m\n\u001b[1;32m    827\u001b[0m     \u001b[0ms\u001b[0m \u001b[0;34m=\u001b[0m \u001b[0mBytesIO\u001b[0m\u001b[0;34m(\u001b[0m\u001b[0;34m)\u001b[0m\u001b[0;34m\u001b[0m\u001b[0;34m\u001b[0m\u001b[0m\n",
      "\u001b[0;32m/opt/anaconda3/lib/python3.7/site-packages/lightgbm/plotting.py\u001b[0m in \u001b[0;36mcreate_tree_digraph\u001b[0;34m(booster, tree_index, show_info, precision, orientation, example_case, max_category_values, **kwargs)\u001b[0m\n\u001b[1;32m    688\u001b[0m     \"\"\"\n\u001b[1;32m    689\u001b[0m     \u001b[0;32mif\u001b[0m \u001b[0misinstance\u001b[0m\u001b[0;34m(\u001b[0m\u001b[0mbooster\u001b[0m\u001b[0;34m,\u001b[0m \u001b[0mLGBMModel\u001b[0m\u001b[0;34m)\u001b[0m\u001b[0;34m:\u001b[0m\u001b[0;34m\u001b[0m\u001b[0;34m\u001b[0m\u001b[0m\n\u001b[0;32m--> 690\u001b[0;31m         \u001b[0mbooster\u001b[0m \u001b[0;34m=\u001b[0m \u001b[0mbooster\u001b[0m\u001b[0;34m.\u001b[0m\u001b[0mbooster_\u001b[0m\u001b[0;34m\u001b[0m\u001b[0;34m\u001b[0m\u001b[0m\n\u001b[0m\u001b[1;32m    691\u001b[0m     \u001b[0;32melif\u001b[0m \u001b[0;32mnot\u001b[0m \u001b[0misinstance\u001b[0m\u001b[0;34m(\u001b[0m\u001b[0mbooster\u001b[0m\u001b[0;34m,\u001b[0m \u001b[0mBooster\u001b[0m\u001b[0;34m)\u001b[0m\u001b[0;34m:\u001b[0m\u001b[0;34m\u001b[0m\u001b[0;34m\u001b[0m\u001b[0m\n\u001b[1;32m    692\u001b[0m         \u001b[0;32mraise\u001b[0m \u001b[0mTypeError\u001b[0m\u001b[0;34m(\u001b[0m\u001b[0;34m'booster must be Booster or LGBMModel.'\u001b[0m\u001b[0;34m)\u001b[0m\u001b[0;34m\u001b[0m\u001b[0;34m\u001b[0m\u001b[0m\n",
      "\u001b[0;32m/opt/anaconda3/lib/python3.7/site-packages/lightgbm/sklearn.py\u001b[0m in \u001b[0;36mbooster_\u001b[0;34m(self)\u001b[0m\n\u001b[1;32m    996\u001b[0m         \u001b[0;34m\"\"\"Booster: The underlying Booster of this model.\"\"\"\u001b[0m\u001b[0;34m\u001b[0m\u001b[0;34m\u001b[0m\u001b[0m\n\u001b[1;32m    997\u001b[0m         \u001b[0;32mif\u001b[0m \u001b[0;32mnot\u001b[0m \u001b[0mself\u001b[0m\u001b[0;34m.\u001b[0m\u001b[0m__sklearn_is_fitted__\u001b[0m\u001b[0;34m(\u001b[0m\u001b[0;34m)\u001b[0m\u001b[0;34m:\u001b[0m\u001b[0;34m\u001b[0m\u001b[0;34m\u001b[0m\u001b[0m\n\u001b[0;32m--> 998\u001b[0;31m             \u001b[0;32mraise\u001b[0m \u001b[0mLGBMNotFittedError\u001b[0m\u001b[0;34m(\u001b[0m\u001b[0;34m'No booster found. Need to call fit beforehand.'\u001b[0m\u001b[0;34m)\u001b[0m\u001b[0;34m\u001b[0m\u001b[0;34m\u001b[0m\u001b[0m\n\u001b[0m\u001b[1;32m    999\u001b[0m         \u001b[0;32mreturn\u001b[0m \u001b[0mself\u001b[0m\u001b[0;34m.\u001b[0m\u001b[0m_Booster\u001b[0m  \u001b[0;31m# type: ignore[return-value]\u001b[0m\u001b[0;34m\u001b[0m\u001b[0;34m\u001b[0m\u001b[0m\n\u001b[1;32m   1000\u001b[0m \u001b[0;34m\u001b[0m\u001b[0m\n",
      "\u001b[0;31mNotFittedError\u001b[0m: No booster found. Need to call fit beforehand."
     ]
    },
    {
     "data": {
      "image/png": "[encoded data removed]",
      "text/plain": [
       "<Figure size 432x288 with 1 Axes>"
      ]
     },
     "metadata": {
      "needs_background": "light"
     },
     "output_type": "display_data"
    }
   ],
   "source": [
    "# 弱学習器の木構造を描画\n",
    "lgb.plot_tree(lgbmc, tree_index=0)"
   ]
  },
  {
   "cell_type": "markdown",
   "metadata": {},
   "source": [
    "### CatBoost"
   ]
  },
  {
   "cell_type": "code",
   "execution_count": 4,
   "metadata": {},
   "outputs": [],
   "source": [
    "# データ準備 (ラベルエンコーディングをしないバージョン)\n",
    "df = sns.load_dataset('titanic')\n",
    "df.dropna(inplace=True)\n",
    "# X, yを作成\n",
    "X = df.loc[:, (df.columns!='survived') & (df.columns!='alive')]\n",
    "y = df['survived']\n",
    "# カテゴリカル変数のカラム名のリスト\n",
    "cat_cols = X.select_dtypes(exclude=np.number).columns.to_list()\n",
    "# CatBoostはカテゴリカル編数の事前エンコーディングは不要\n",
    "# oe = OrdinalEncoder()\n",
    "# oe.set_output(transform='pandas')\n",
    "# X = oe.fit_transform(X)\n",
    "X_train, X_test, y_train, y_test = train_test_split(X, y, test_size=0.3, random_state=0)"
   ]
  },
  {
   "cell_type": "code",
   "execution_count": 5,
   "metadata": {
    "tags": []
   },
   "outputs": [
    {
     "name": "stdout",
     "output_type": "stream",
     "text": [
      "0:\tlearn: 0.6885366\ttest: 0.6868442\tbest: 0.6868442 (0)\ttotal: 140ms\tremaining: 2m 20s\n",
      "1:\tlearn: 0.6814490\ttest: 0.6793775\tbest: 0.6793775 (1)\ttotal: 185ms\tremaining: 1m 32s\n",
      "2:\tlearn: 0.6760508\ttest: 0.6726860\tbest: 0.6726860 (2)\ttotal: 210ms\tremaining: 1m 9s\n",
      "3:\tlearn: 0.6712676\ttest: 0.6671826\tbest: 0.6671826 (3)\ttotal: 237ms\tremaining: 59.1s\n",
      "4:\tlearn: 0.6653107\ttest: 0.6593995\tbest: 0.6593995 (4)\ttotal: 260ms\tremaining: 51.8s\n",
      "5:\tlearn: 0.6598695\ttest: 0.6518437\tbest: 0.6518437 (5)\ttotal: 283ms\tremaining: 46.8s\n",
      "6:\tlearn: 0.6558456\ttest: 0.6467404\tbest: 0.6467404 (6)\ttotal: 304ms\tremaining: 43.1s\n",
      "7:\tlearn: 0.6515199\ttest: 0.6413944\tbest: 0.6413944 (7)\ttotal: 330ms\tremaining: 40.9s\n",
      "8:\tlearn: 0.6471426\ttest: 0.6356173\tbest: 0.6356173 (8)\ttotal: 354ms\tremaining: 39s\n",
      "9:\tlearn: 0.6431772\ttest: 0.6310513\tbest: 0.6310513 (9)\ttotal: 381ms\tremaining: 37.7s\n",
      "10:\tlearn: 0.6392733\ttest: 0.6260433\tbest: 0.6260433 (10)\ttotal: 398ms\tremaining: 35.8s\n",
      "11:\tlearn: 0.6349835\ttest: 0.6211657\tbest: 0.6211657 (11)\ttotal: 419ms\tremaining: 34.5s\n",
      "12:\tlearn: 0.6297353\ttest: 0.6142893\tbest: 0.6142893 (12)\ttotal: 445ms\tremaining: 33.8s\n",
      "13:\tlearn: 0.6257014\ttest: 0.6089575\tbest: 0.6089575 (13)\ttotal: 506ms\tremaining: 35.6s\n",
      "14:\tlearn: 0.6228797\ttest: 0.6047456\tbest: 0.6047456 (14)\ttotal: 525ms\tremaining: 34.4s\n",
      "15:\tlearn: 0.6192839\ttest: 0.5997640\tbest: 0.5997640 (15)\ttotal: 544ms\tremaining: 33.5s\n",
      "16:\tlearn: 0.6159293\ttest: 0.5952244\tbest: 0.5952244 (16)\ttotal: 555ms\tremaining: 32.1s\n",
      "17:\tlearn: 0.6123541\ttest: 0.5915089\tbest: 0.5915089 (17)\ttotal: 574ms\tremaining: 31.3s\n",
      "18:\tlearn: 0.6087682\ttest: 0.5869566\tbest: 0.5869566 (18)\ttotal: 594ms\tremaining: 30.7s\n",
      "19:\tlearn: 0.6059512\ttest: 0.5828794\tbest: 0.5828794 (19)\ttotal: 606ms\tremaining: 29.7s\n",
      "20:\tlearn: 0.6036528\ttest: 0.5793081\tbest: 0.5793081 (20)\ttotal: 618ms\tremaining: 28.8s\n",
      "21:\tlearn: 0.6003103\ttest: 0.5749759\tbest: 0.5749759 (21)\ttotal: 634ms\tremaining: 28.2s\n",
      "22:\tlearn: 0.5964854\ttest: 0.5704424\tbest: 0.5704424 (22)\ttotal: 653ms\tremaining: 27.7s\n",
      "23:\tlearn: 0.5934784\ttest: 0.5674007\tbest: 0.5674007 (23)\ttotal: 675ms\tremaining: 27.4s\n",
      "24:\tlearn: 0.5905832\ttest: 0.5630047\tbest: 0.5630047 (24)\ttotal: 694ms\tremaining: 27.1s\n",
      "25:\tlearn: 0.5877747\ttest: 0.5590216\tbest: 0.5590216 (25)\ttotal: 706ms\tremaining: 26.4s\n",
      "26:\tlearn: 0.5846401\ttest: 0.5552102\tbest: 0.5552102 (26)\ttotal: 725ms\tremaining: 26.1s\n",
      "27:\tlearn: 0.5817498\ttest: 0.5512282\tbest: 0.5512282 (27)\ttotal: 739ms\tremaining: 25.7s\n",
      "28:\tlearn: 0.5786049\ttest: 0.5475847\tbest: 0.5475847 (28)\ttotal: 758ms\tremaining: 25.4s\n",
      "29:\tlearn: 0.5754786\ttest: 0.5445350\tbest: 0.5445350 (29)\ttotal: 776ms\tremaining: 25.1s\n",
      "30:\tlearn: 0.5716935\ttest: 0.5420616\tbest: 0.5420616 (30)\ttotal: 795ms\tremaining: 24.8s\n",
      "31:\tlearn: 0.5687822\ttest: 0.5388880\tbest: 0.5388880 (31)\ttotal: 817ms\tremaining: 24.7s\n",
      "32:\tlearn: 0.5666806\ttest: 0.5357234\tbest: 0.5357234 (32)\ttotal: 828ms\tremaining: 24.3s\n",
      "33:\tlearn: 0.5645686\ttest: 0.5327712\tbest: 0.5327712 (33)\ttotal: 843ms\tremaining: 24s\n",
      "34:\tlearn: 0.5617470\ttest: 0.5298380\tbest: 0.5298380 (34)\ttotal: 862ms\tremaining: 23.8s\n",
      "35:\tlearn: 0.5595996\ttest: 0.5267474\tbest: 0.5267474 (35)\ttotal: 873ms\tremaining: 23.4s\n",
      "36:\tlearn: 0.5577272\ttest: 0.5239698\tbest: 0.5239698 (36)\ttotal: 884ms\tremaining: 23s\n",
      "37:\tlearn: 0.5560825\ttest: 0.5214636\tbest: 0.5214636 (37)\ttotal: 896ms\tremaining: 22.7s\n",
      "38:\tlearn: 0.5538208\ttest: 0.5182435\tbest: 0.5182435 (38)\ttotal: 916ms\tremaining: 22.6s\n",
      "39:\tlearn: 0.5512437\ttest: 0.5160989\tbest: 0.5160989 (39)\ttotal: 936ms\tremaining: 22.5s\n",
      "40:\tlearn: 0.5483144\ttest: 0.5130560\tbest: 0.5130560 (40)\ttotal: 954ms\tremaining: 22.3s\n",
      "41:\tlearn: 0.5464379\ttest: 0.5103015\tbest: 0.5103015 (41)\ttotal: 968ms\tremaining: 22.1s\n",
      "42:\tlearn: 0.5445973\ttest: 0.5077488\tbest: 0.5077488 (42)\ttotal: 984ms\tremaining: 21.9s\n",
      "43:\tlearn: 0.5427704\ttest: 0.5048449\tbest: 0.5048449 (43)\ttotal: 1.01s\tremaining: 21.9s\n",
      "44:\tlearn: 0.5408068\ttest: 0.5021535\tbest: 0.5021535 (44)\ttotal: 1.02s\tremaining: 21.7s\n",
      "45:\tlearn: 0.5391001\ttest: 0.4996127\tbest: 0.4996127 (45)\ttotal: 1.03s\tremaining: 21.4s\n",
      "46:\tlearn: 0.5374345\ttest: 0.4971224\tbest: 0.4971224 (46)\ttotal: 1.04s\tremaining: 21.1s\n",
      "47:\tlearn: 0.5350104\ttest: 0.4945193\tbest: 0.4945193 (47)\ttotal: 1.06s\tremaining: 21s\n",
      "48:\tlearn: 0.5330865\ttest: 0.4925413\tbest: 0.4925413 (48)\ttotal: 1.08s\tremaining: 20.9s\n",
      "49:\tlearn: 0.5301812\ttest: 0.4890776\tbest: 0.4890776 (49)\ttotal: 1.1s\tremaining: 20.9s\n",
      "50:\tlearn: 0.5278030\ttest: 0.4862014\tbest: 0.4862014 (50)\ttotal: 1.11s\tremaining: 20.7s\n",
      "51:\tlearn: 0.5259231\ttest: 0.4837792\tbest: 0.4837792 (51)\ttotal: 1.14s\tremaining: 20.7s\n",
      "52:\tlearn: 0.5241634\ttest: 0.4816042\tbest: 0.4816042 (52)\ttotal: 1.16s\tremaining: 20.6s\n",
      "53:\tlearn: 0.5224510\ttest: 0.4796162\tbest: 0.4796162 (53)\ttotal: 1.18s\tremaining: 20.7s\n",
      "54:\tlearn: 0.5197941\ttest: 0.4761447\tbest: 0.4761447 (54)\ttotal: 1.2s\tremaining: 20.7s\n",
      "55:\tlearn: 0.5181662\ttest: 0.4739650\tbest: 0.4739650 (55)\ttotal: 1.23s\tremaining: 20.8s\n",
      "56:\tlearn: 0.5173871\ttest: 0.4733326\tbest: 0.4733326 (56)\ttotal: 1.25s\tremaining: 20.6s\n",
      "57:\tlearn: 0.5155455\ttest: 0.4712545\tbest: 0.4712545 (57)\ttotal: 1.27s\tremaining: 20.6s\n",
      "58:\tlearn: 0.5142110\ttest: 0.4693126\tbest: 0.4693126 (58)\ttotal: 1.28s\tremaining: 20.5s\n",
      "59:\tlearn: 0.5133170\ttest: 0.4691935\tbest: 0.4691935 (59)\ttotal: 1.31s\tremaining: 20.5s\n",
      "60:\tlearn: 0.5113435\ttest: 0.4669860\tbest: 0.4669860 (60)\ttotal: 1.33s\tremaining: 20.4s\n",
      "61:\tlearn: 0.5102043\ttest: 0.4662848\tbest: 0.4662848 (61)\ttotal: 1.35s\tremaining: 20.4s\n",
      "62:\tlearn: 0.5081524\ttest: 0.4633175\tbest: 0.4633175 (62)\ttotal: 1.36s\tremaining: 20.3s\n",
      "63:\tlearn: 0.5066716\ttest: 0.4617454\tbest: 0.4617454 (63)\ttotal: 1.38s\tremaining: 20.2s\n",
      "64:\tlearn: 0.5052622\ttest: 0.4598564\tbest: 0.4598564 (64)\ttotal: 1.4s\tremaining: 20.2s\n",
      "65:\tlearn: 0.5041596\ttest: 0.4582513\tbest: 0.4582513 (65)\ttotal: 1.42s\tremaining: 20.1s\n",
      "66:\tlearn: 0.5031970\ttest: 0.4570071\tbest: 0.4570071 (66)\ttotal: 1.44s\tremaining: 20.1s\n",
      "67:\tlearn: 0.5018423\ttest: 0.4551051\tbest: 0.4551051 (67)\ttotal: 1.46s\tremaining: 20s\n",
      "68:\tlearn: 0.5007598\ttest: 0.4534995\tbest: 0.4534995 (68)\ttotal: 1.48s\tremaining: 20s\n",
      "69:\tlearn: 0.4987456\ttest: 0.4526383\tbest: 0.4526383 (69)\ttotal: 1.5s\tremaining: 20s\n",
      "70:\tlearn: 0.4966159\ttest: 0.4499937\tbest: 0.4499937 (70)\ttotal: 1.53s\tremaining: 20.1s\n",
      "71:\tlearn: 0.4951924\ttest: 0.4479407\tbest: 0.4479407 (71)\ttotal: 1.56s\tremaining: 20.1s\n",
      "72:\tlearn: 0.4934289\ttest: 0.4464459\tbest: 0.4464459 (72)\ttotal: 1.58s\tremaining: 20.1s\n",
      "73:\tlearn: 0.4914585\ttest: 0.4451893\tbest: 0.4451893 (73)\ttotal: 1.61s\tremaining: 20.1s\n",
      "74:\tlearn: 0.4891505\ttest: 0.4439476\tbest: 0.4439476 (74)\ttotal: 1.63s\tremaining: 20.1s\n",
      "75:\tlearn: 0.4876853\ttest: 0.4423504\tbest: 0.4423504 (75)\ttotal: 1.66s\tremaining: 20.2s\n",
      "76:\tlearn: 0.4866735\ttest: 0.4410485\tbest: 0.4410485 (76)\ttotal: 1.68s\tremaining: 20.1s\n",
      "77:\tlearn: 0.4846050\ttest: 0.4398621\tbest: 0.4398621 (77)\ttotal: 1.7s\tremaining: 20.1s\n",
      "78:\tlearn: 0.4834460\ttest: 0.4380912\tbest: 0.4380912 (78)\ttotal: 1.72s\tremaining: 20s\n",
      "79:\tlearn: 0.4810501\ttest: 0.4364085\tbest: 0.4364085 (79)\ttotal: 1.74s\tremaining: 20s\n",
      "80:\tlearn: 0.4795620\ttest: 0.4349185\tbest: 0.4349185 (80)\ttotal: 1.78s\tremaining: 20.3s\n",
      "81:\tlearn: 0.4778342\ttest: 0.4330924\tbest: 0.4330924 (81)\ttotal: 1.81s\tremaining: 20.3s\n",
      "82:\tlearn: 0.4768984\ttest: 0.4322483\tbest: 0.4322483 (82)\ttotal: 1.84s\tremaining: 20.4s\n",
      "83:\tlearn: 0.4756576\ttest: 0.4312261\tbest: 0.4312261 (83)\ttotal: 1.87s\tremaining: 20.4s\n",
      "84:\tlearn: 0.4750193\ttest: 0.4300254\tbest: 0.4300254 (84)\ttotal: 1.88s\tremaining: 20.2s\n",
      "85:\tlearn: 0.4728593\ttest: 0.4289587\tbest: 0.4289587 (85)\ttotal: 1.92s\tremaining: 20.4s\n",
      "86:\tlearn: 0.4713270\ttest: 0.4276228\tbest: 0.4276228 (86)\ttotal: 1.94s\tremaining: 20.4s\n",
      "87:\tlearn: 0.4702003\ttest: 0.4266927\tbest: 0.4266927 (87)\ttotal: 1.96s\tremaining: 20.3s\n",
      "88:\tlearn: 0.4701247\ttest: 0.4265627\tbest: 0.4265627 (88)\ttotal: 1.97s\tremaining: 20.2s\n",
      "89:\tlearn: 0.4687561\ttest: 0.4258227\tbest: 0.4258227 (89)\ttotal: 2.01s\tremaining: 20.3s\n",
      "90:\tlearn: 0.4665683\ttest: 0.4237702\tbest: 0.4237702 (90)\ttotal: 2.05s\tremaining: 20.5s\n",
      "91:\tlearn: 0.4654816\ttest: 0.4229496\tbest: 0.4229496 (91)\ttotal: 2.08s\tremaining: 20.5s\n",
      "92:\tlearn: 0.4647316\ttest: 0.4218051\tbest: 0.4218051 (92)\ttotal: 2.1s\tremaining: 20.4s\n",
      "93:\tlearn: 0.4638832\ttest: 0.4208226\tbest: 0.4208226 (93)\ttotal: 2.13s\tremaining: 20.5s\n",
      "94:\tlearn: 0.4620718\ttest: 0.4190979\tbest: 0.4190979 (94)\ttotal: 2.16s\tremaining: 20.6s\n",
      "95:\tlearn: 0.4609688\ttest: 0.4180640\tbest: 0.4180640 (95)\ttotal: 2.19s\tremaining: 20.7s\n",
      "96:\tlearn: 0.4598000\ttest: 0.4174645\tbest: 0.4174645 (96)\ttotal: 2.22s\tremaining: 20.6s\n",
      "97:\tlearn: 0.4577815\ttest: 0.4160873\tbest: 0.4160873 (97)\ttotal: 2.25s\tremaining: 20.7s\n",
      "98:\tlearn: 0.4566318\ttest: 0.4151728\tbest: 0.4151728 (98)\ttotal: 2.27s\tremaining: 20.7s\n",
      "99:\tlearn: 0.4545690\ttest: 0.4132234\tbest: 0.4132234 (99)\ttotal: 2.3s\tremaining: 20.7s\n",
      "100:\tlearn: 0.4539922\ttest: 0.4122602\tbest: 0.4122602 (100)\ttotal: 2.33s\tremaining: 20.7s\n",
      "101:\tlearn: 0.4529063\ttest: 0.4113384\tbest: 0.4113384 (101)\ttotal: 2.36s\tremaining: 20.8s\n",
      "102:\tlearn: 0.4520020\ttest: 0.4111436\tbest: 0.4111436 (102)\ttotal: 2.38s\tremaining: 20.7s\n",
      "103:\tlearn: 0.4508769\ttest: 0.4099632\tbest: 0.4099632 (103)\ttotal: 2.4s\tremaining: 20.7s\n",
      "104:\tlearn: 0.4493931\ttest: 0.4082664\tbest: 0.4082664 (104)\ttotal: 2.42s\tremaining: 20.7s\n",
      "105:\tlearn: 0.4486184\ttest: 0.4075025\tbest: 0.4075025 (105)\ttotal: 2.45s\tremaining: 20.7s\n",
      "106:\tlearn: 0.4475918\ttest: 0.4066528\tbest: 0.4066528 (106)\ttotal: 2.48s\tremaining: 20.7s\n",
      "107:\tlearn: 0.4471947\ttest: 0.4062006\tbest: 0.4062006 (107)\ttotal: 2.5s\tremaining: 20.6s\n",
      "108:\tlearn: 0.4462182\ttest: 0.4054002\tbest: 0.4054002 (108)\ttotal: 2.52s\tremaining: 20.6s\n",
      "109:\tlearn: 0.4450630\ttest: 0.4044417\tbest: 0.4044417 (109)\ttotal: 2.55s\tremaining: 20.6s\n",
      "110:\tlearn: 0.4435597\ttest: 0.4036472\tbest: 0.4036472 (110)\ttotal: 2.58s\tremaining: 20.6s\n",
      "111:\tlearn: 0.4426948\ttest: 0.4026546\tbest: 0.4026546 (111)\ttotal: 2.63s\tremaining: 20.9s\n",
      "112:\tlearn: 0.4411615\ttest: 0.4017203\tbest: 0.4017203 (112)\ttotal: 2.69s\tremaining: 21.1s\n",
      "113:\tlearn: 0.4401612\ttest: 0.4011233\tbest: 0.4011233 (113)\ttotal: 2.74s\tremaining: 21.3s\n",
      "114:\tlearn: 0.4383373\ttest: 0.4006388\tbest: 0.4006388 (114)\ttotal: 2.77s\tremaining: 21.3s\n",
      "115:\tlearn: 0.4373746\ttest: 0.4004154\tbest: 0.4004154 (115)\ttotal: 2.81s\tremaining: 21.4s\n",
      "116:\tlearn: 0.4355159\ttest: 0.3999646\tbest: 0.3999646 (116)\ttotal: 2.83s\tremaining: 21.4s\n",
      "117:\tlearn: 0.4349353\ttest: 0.4002055\tbest: 0.3999646 (116)\ttotal: 2.88s\tremaining: 21.5s\n",
      "118:\tlearn: 0.4340037\ttest: 0.3996140\tbest: 0.3996140 (118)\ttotal: 2.91s\tremaining: 21.5s\n",
      "119:\tlearn: 0.4333057\ttest: 0.3987412\tbest: 0.3987412 (119)\ttotal: 2.94s\tremaining: 21.6s\n",
      "120:\tlearn: 0.4321639\ttest: 0.3981047\tbest: 0.3981047 (120)\ttotal: 2.98s\tremaining: 21.7s\n",
      "121:\tlearn: 0.4312836\ttest: 0.3975749\tbest: 0.3975749 (121)\ttotal: 3.02s\tremaining: 21.7s\n",
      "122:\tlearn: 0.4301065\ttest: 0.3964132\tbest: 0.3964132 (122)\ttotal: 3.05s\tremaining: 21.7s\n",
      "123:\tlearn: 0.4293128\ttest: 0.3959549\tbest: 0.3959549 (123)\ttotal: 3.08s\tremaining: 21.8s\n",
      "124:\tlearn: 0.4288285\ttest: 0.3953476\tbest: 0.3953476 (124)\ttotal: 3.11s\tremaining: 21.8s\n",
      "125:\tlearn: 0.4283289\ttest: 0.3953596\tbest: 0.3953476 (124)\ttotal: 3.17s\tremaining: 22s\n",
      "126:\tlearn: 0.4277377\ttest: 0.3951833\tbest: 0.3951833 (126)\ttotal: 3.21s\tremaining: 22.1s\n",
      "127:\tlearn: 0.4264857\ttest: 0.3950875\tbest: 0.3950875 (127)\ttotal: 3.27s\tremaining: 22.3s\n",
      "128:\tlearn: 0.4255240\ttest: 0.3943455\tbest: 0.3943455 (128)\ttotal: 3.32s\tremaining: 22.4s\n",
      "129:\tlearn: 0.4234931\ttest: 0.3937669\tbest: 0.3937669 (129)\ttotal: 3.36s\tremaining: 22.5s\n",
      "130:\tlearn: 0.4223377\ttest: 0.3929616\tbest: 0.3929616 (130)\ttotal: 3.39s\tremaining: 22.5s\n",
      "131:\tlearn: 0.4216184\ttest: 0.3920860\tbest: 0.3920860 (131)\ttotal: 3.42s\tremaining: 22.5s\n",
      "132:\tlearn: 0.4206088\ttest: 0.3912857\tbest: 0.3912857 (132)\ttotal: 3.47s\tremaining: 22.6s\n",
      "133:\tlearn: 0.4187926\ttest: 0.3902488\tbest: 0.3902488 (133)\ttotal: 3.51s\tremaining: 22.7s\n",
      "134:\tlearn: 0.4181448\ttest: 0.3901342\tbest: 0.3901342 (134)\ttotal: 3.58s\tremaining: 23s\n",
      "135:\tlearn: 0.4169574\ttest: 0.3900754\tbest: 0.3900754 (135)\ttotal: 3.62s\tremaining: 23s\n",
      "136:\tlearn: 0.4155966\ttest: 0.3892637\tbest: 0.3892637 (136)\ttotal: 3.67s\tremaining: 23.1s\n",
      "137:\tlearn: 0.4135989\ttest: 0.3879736\tbest: 0.3879736 (137)\ttotal: 3.7s\tremaining: 23.1s\n",
      "138:\tlearn: 0.4125745\ttest: 0.3876307\tbest: 0.3876307 (138)\ttotal: 3.73s\tremaining: 23.1s\n",
      "139:\tlearn: 0.4113442\ttest: 0.3875368\tbest: 0.3875368 (139)\ttotal: 3.77s\tremaining: 23.2s\n",
      "140:\tlearn: 0.4109786\ttest: 0.3869917\tbest: 0.3869917 (140)\ttotal: 3.8s\tremaining: 23.1s\n",
      "141:\tlearn: 0.4098187\ttest: 0.3867484\tbest: 0.3867484 (141)\ttotal: 3.84s\tremaining: 23.2s\n",
      "142:\tlearn: 0.4090791\ttest: 0.3869263\tbest: 0.3867484 (141)\ttotal: 3.9s\tremaining: 23.3s\n",
      "143:\tlearn: 0.4081403\ttest: 0.3862195\tbest: 0.3862195 (143)\ttotal: 3.94s\tremaining: 23.4s\n",
      "144:\tlearn: 0.4068838\ttest: 0.3853533\tbest: 0.3853533 (144)\ttotal: 3.99s\tremaining: 23.5s\n",
      "145:\tlearn: 0.4063444\ttest: 0.3849166\tbest: 0.3849166 (145)\ttotal: 4.01s\tremaining: 23.5s\n",
      "146:\tlearn: 0.4055139\ttest: 0.3837166\tbest: 0.3837166 (146)\ttotal: 4.07s\tremaining: 23.6s\n",
      "147:\tlearn: 0.4045732\ttest: 0.3829196\tbest: 0.3829196 (147)\ttotal: 4.14s\tremaining: 23.8s\n",
      "148:\tlearn: 0.4036862\ttest: 0.3822877\tbest: 0.3822877 (148)\ttotal: 4.25s\tremaining: 24.3s\n",
      "149:\tlearn: 0.4024831\ttest: 0.3809658\tbest: 0.3809658 (149)\ttotal: 4.32s\tremaining: 24.5s\n",
      "150:\tlearn: 0.4014144\ttest: 0.3803610\tbest: 0.3803610 (150)\ttotal: 4.37s\tremaining: 24.6s\n",
      "151:\tlearn: 0.4005312\ttest: 0.3802231\tbest: 0.3802231 (151)\ttotal: 4.44s\tremaining: 24.8s\n",
      "152:\tlearn: 0.3993072\ttest: 0.3794482\tbest: 0.3794482 (152)\ttotal: 4.49s\tremaining: 24.9s\n",
      "153:\tlearn: 0.3989611\ttest: 0.3796376\tbest: 0.3794482 (152)\ttotal: 4.51s\tremaining: 24.8s\n",
      "154:\tlearn: 0.3978937\ttest: 0.3793287\tbest: 0.3793287 (154)\ttotal: 4.53s\tremaining: 24.7s\n",
      "155:\tlearn: 0.3967442\ttest: 0.3788001\tbest: 0.3788001 (155)\ttotal: 4.55s\tremaining: 24.6s\n",
      "156:\tlearn: 0.3962285\ttest: 0.3783161\tbest: 0.3783161 (156)\ttotal: 4.57s\tremaining: 24.5s\n",
      "157:\tlearn: 0.3956404\ttest: 0.3783740\tbest: 0.3783161 (156)\ttotal: 4.6s\tremaining: 24.5s\n",
      "158:\tlearn: 0.3950695\ttest: 0.3778998\tbest: 0.3778998 (158)\ttotal: 4.63s\tremaining: 24.5s\n",
      "159:\tlearn: 0.3945452\ttest: 0.3775862\tbest: 0.3775862 (159)\ttotal: 4.65s\tremaining: 24.4s\n",
      "160:\tlearn: 0.3937062\ttest: 0.3775839\tbest: 0.3775839 (160)\ttotal: 4.67s\tremaining: 24.4s\n",
      "161:\tlearn: 0.3930157\ttest: 0.3772782\tbest: 0.3772782 (161)\ttotal: 4.71s\tremaining: 24.3s\n",
      "162:\tlearn: 0.3921342\ttest: 0.3766379\tbest: 0.3766379 (162)\ttotal: 4.73s\tremaining: 24.3s\n",
      "163:\tlearn: 0.3914844\ttest: 0.3767709\tbest: 0.3766379 (162)\ttotal: 4.75s\tremaining: 24.2s\n",
      "164:\tlearn: 0.3900598\ttest: 0.3766253\tbest: 0.3766253 (164)\ttotal: 4.77s\tremaining: 24.1s\n",
      "165:\tlearn: 0.3897811\ttest: 0.3766413\tbest: 0.3766253 (164)\ttotal: 4.78s\tremaining: 24s\n",
      "166:\tlearn: 0.3887602\ttest: 0.3766365\tbest: 0.3766253 (164)\ttotal: 4.8s\tremaining: 24s\n",
      "167:\tlearn: 0.3878371\ttest: 0.3768044\tbest: 0.3766253 (164)\ttotal: 4.82s\tremaining: 23.9s\n",
      "168:\tlearn: 0.3870238\ttest: 0.3761604\tbest: 0.3761604 (168)\ttotal: 4.84s\tremaining: 23.8s\n",
      "169:\tlearn: 0.3867919\ttest: 0.3759419\tbest: 0.3759419 (169)\ttotal: 4.87s\tremaining: 23.8s\n",
      "170:\tlearn: 0.3865311\ttest: 0.3755220\tbest: 0.3755220 (170)\ttotal: 4.88s\tremaining: 23.7s\n",
      "171:\tlearn: 0.3863291\ttest: 0.3752773\tbest: 0.3752773 (171)\ttotal: 4.9s\tremaining: 23.6s\n",
      "172:\tlearn: 0.3860823\ttest: 0.3749687\tbest: 0.3749687 (172)\ttotal: 4.92s\tremaining: 23.5s\n",
      "173:\tlearn: 0.3852182\ttest: 0.3744645\tbest: 0.3744645 (173)\ttotal: 4.94s\tremaining: 23.5s\n",
      "174:\tlearn: 0.3846215\ttest: 0.3741786\tbest: 0.3741786 (174)\ttotal: 4.96s\tremaining: 23.4s\n",
      "175:\tlearn: 0.3844158\ttest: 0.3739342\tbest: 0.3739342 (175)\ttotal: 4.98s\tremaining: 23.3s\n",
      "176:\tlearn: 0.3834088\ttest: 0.3735382\tbest: 0.3735382 (176)\ttotal: 5s\tremaining: 23.2s\n",
      "177:\tlearn: 0.3825393\ttest: 0.3732360\tbest: 0.3732360 (177)\ttotal: 5.01s\tremaining: 23.2s\n",
      "178:\tlearn: 0.3820809\ttest: 0.3732526\tbest: 0.3732360 (177)\ttotal: 5.03s\tremaining: 23.1s\n",
      "179:\tlearn: 0.3812145\ttest: 0.3734629\tbest: 0.3732360 (177)\ttotal: 5.05s\tremaining: 23s\n",
      "180:\tlearn: 0.3802367\ttest: 0.3727728\tbest: 0.3727728 (180)\ttotal: 5.07s\tremaining: 23s\n",
      "181:\tlearn: 0.3797378\ttest: 0.3729144\tbest: 0.3727728 (180)\ttotal: 5.09s\tremaining: 22.9s\n",
      "182:\tlearn: 0.3791684\ttest: 0.3726581\tbest: 0.3726581 (182)\ttotal: 5.11s\tremaining: 22.8s\n",
      "183:\tlearn: 0.3787281\ttest: 0.3722946\tbest: 0.3722946 (183)\ttotal: 5.14s\tremaining: 22.8s\n",
      "184:\tlearn: 0.3783055\ttest: 0.3722958\tbest: 0.3722946 (183)\ttotal: 5.17s\tremaining: 22.8s\n",
      "185:\tlearn: 0.3780187\ttest: 0.3720237\tbest: 0.3720237 (185)\ttotal: 5.21s\tremaining: 22.8s\n",
      "186:\tlearn: 0.3774917\ttest: 0.3720493\tbest: 0.3720237 (185)\ttotal: 5.26s\tremaining: 22.9s\n",
      "187:\tlearn: 0.3767356\ttest: 0.3725894\tbest: 0.3720237 (185)\ttotal: 5.28s\tremaining: 22.8s\n",
      "188:\tlearn: 0.3764537\ttest: 0.3725122\tbest: 0.3720237 (185)\ttotal: 5.3s\tremaining: 22.7s\n",
      "189:\tlearn: 0.3756047\ttest: 0.3722021\tbest: 0.3720237 (185)\ttotal: 5.32s\tremaining: 22.7s\n",
      "190:\tlearn: 0.3741427\ttest: 0.3722756\tbest: 0.3720237 (185)\ttotal: 5.34s\tremaining: 22.6s\n",
      "191:\tlearn: 0.3739466\ttest: 0.3721076\tbest: 0.3720237 (185)\ttotal: 5.36s\tremaining: 22.5s\n",
      "192:\tlearn: 0.3725369\ttest: 0.3719112\tbest: 0.3719112 (192)\ttotal: 5.38s\tremaining: 22.5s\n",
      "193:\tlearn: 0.3721164\ttest: 0.3715920\tbest: 0.3715920 (193)\ttotal: 5.4s\tremaining: 22.4s\n",
      "194:\tlearn: 0.3711259\ttest: 0.3714960\tbest: 0.3714960 (194)\ttotal: 5.42s\tremaining: 22.4s\n",
      "195:\tlearn: 0.3704565\ttest: 0.3714082\tbest: 0.3714082 (195)\ttotal: 5.44s\tremaining: 22.3s\n",
      "196:\tlearn: 0.3699226\ttest: 0.3715808\tbest: 0.3714082 (195)\ttotal: 5.46s\tremaining: 22.3s\n",
      "197:\tlearn: 0.3683071\ttest: 0.3707737\tbest: 0.3707737 (197)\ttotal: 5.48s\tremaining: 22.2s\n",
      "198:\tlearn: 0.3677297\ttest: 0.3707624\tbest: 0.3707624 (198)\ttotal: 5.51s\tremaining: 22.2s\n",
      "199:\tlearn: 0.3670085\ttest: 0.3701407\tbest: 0.3701407 (199)\ttotal: 5.53s\tremaining: 22.1s\n",
      "200:\tlearn: 0.3656473\ttest: 0.3693931\tbest: 0.3693931 (200)\ttotal: 5.55s\tremaining: 22.1s\n",
      "201:\tlearn: 0.3649817\ttest: 0.3696253\tbest: 0.3693931 (200)\ttotal: 5.57s\tremaining: 22s\n",
      "202:\tlearn: 0.3639925\ttest: 0.3687996\tbest: 0.3687996 (202)\ttotal: 5.59s\tremaining: 21.9s\n",
      "203:\tlearn: 0.3626357\ttest: 0.3682463\tbest: 0.3682463 (203)\ttotal: 5.61s\tremaining: 21.9s\n",
      "204:\tlearn: 0.3620133\ttest: 0.3674737\tbest: 0.3674737 (204)\ttotal: 5.63s\tremaining: 21.8s\n",
      "205:\tlearn: 0.3619417\ttest: 0.3675704\tbest: 0.3674737 (204)\ttotal: 5.64s\tremaining: 21.7s\n",
      "206:\tlearn: 0.3609820\ttest: 0.3671167\tbest: 0.3671167 (206)\ttotal: 5.66s\tremaining: 21.7s\n",
      "207:\tlearn: 0.3602905\ttest: 0.3675864\tbest: 0.3671167 (206)\ttotal: 5.69s\tremaining: 21.7s\n",
      "208:\tlearn: 0.3597300\ttest: 0.3674109\tbest: 0.3671167 (206)\ttotal: 5.72s\tremaining: 21.6s\n",
      "209:\tlearn: 0.3589081\ttest: 0.3671606\tbest: 0.3671167 (206)\ttotal: 5.73s\tremaining: 21.6s\n",
      "210:\tlearn: 0.3584379\ttest: 0.3668267\tbest: 0.3668267 (210)\ttotal: 5.75s\tremaining: 21.5s\n",
      "211:\tlearn: 0.3584363\ttest: 0.3668209\tbest: 0.3668209 (211)\ttotal: 5.76s\tremaining: 21.4s\n",
      "212:\tlearn: 0.3578706\ttest: 0.3663201\tbest: 0.3663201 (212)\ttotal: 5.79s\tremaining: 21.4s\n",
      "213:\tlearn: 0.3570223\ttest: 0.3660905\tbest: 0.3660905 (213)\ttotal: 5.82s\tremaining: 21.4s\n",
      "214:\tlearn: 0.3564631\ttest: 0.3659276\tbest: 0.3659276 (214)\ttotal: 5.85s\tremaining: 21.4s\n",
      "215:\tlearn: 0.3557552\ttest: 0.3658697\tbest: 0.3658697 (215)\ttotal: 5.87s\tremaining: 21.3s\n",
      "216:\tlearn: 0.3553830\ttest: 0.3654316\tbest: 0.3654316 (216)\ttotal: 5.89s\tremaining: 21.3s\n",
      "217:\tlearn: 0.3551674\ttest: 0.3654178\tbest: 0.3654178 (217)\ttotal: 5.91s\tremaining: 21.2s\n",
      "218:\tlearn: 0.3545956\ttest: 0.3648598\tbest: 0.3648598 (218)\ttotal: 5.94s\tremaining: 21.2s\n",
      "219:\tlearn: 0.3530577\ttest: 0.3648092\tbest: 0.3648092 (219)\ttotal: 5.96s\tremaining: 21.1s\n",
      "220:\tlearn: 0.3527106\ttest: 0.3646204\tbest: 0.3646204 (220)\ttotal: 5.99s\tremaining: 21.1s\n",
      "221:\tlearn: 0.3521279\ttest: 0.3648854\tbest: 0.3646204 (220)\ttotal: 6s\tremaining: 21s\n",
      "222:\tlearn: 0.3515826\ttest: 0.3652718\tbest: 0.3646204 (220)\ttotal: 6.04s\tremaining: 21s\n",
      "223:\tlearn: 0.3512777\ttest: 0.3653486\tbest: 0.3646204 (220)\ttotal: 6.05s\tremaining: 21s\n",
      "224:\tlearn: 0.3508652\ttest: 0.3651460\tbest: 0.3646204 (220)\ttotal: 6.1s\tremaining: 21s\n",
      "225:\tlearn: 0.3501331\ttest: 0.3647536\tbest: 0.3646204 (220)\ttotal: 6.12s\tremaining: 20.9s\n",
      "226:\tlearn: 0.3500132\ttest: 0.3648698\tbest: 0.3646204 (220)\ttotal: 6.13s\tremaining: 20.9s\n",
      "227:\tlearn: 0.3497733\ttest: 0.3648532\tbest: 0.3646204 (220)\ttotal: 6.16s\tremaining: 20.9s\n",
      "228:\tlearn: 0.3490682\ttest: 0.3643451\tbest: 0.3643451 (228)\ttotal: 6.18s\tremaining: 20.8s\n",
      "229:\tlearn: 0.3486769\ttest: 0.3641762\tbest: 0.3641762 (229)\ttotal: 6.2s\tremaining: 20.8s\n",
      "230:\tlearn: 0.3483809\ttest: 0.3639565\tbest: 0.3639565 (230)\ttotal: 6.22s\tremaining: 20.7s\n",
      "231:\tlearn: 0.3477911\ttest: 0.3640104\tbest: 0.3639565 (230)\ttotal: 6.24s\tremaining: 20.7s\n",
      "232:\tlearn: 0.3471407\ttest: 0.3638224\tbest: 0.3638224 (232)\ttotal: 6.26s\tremaining: 20.6s\n",
      "233:\tlearn: 0.3468625\ttest: 0.3636940\tbest: 0.3636940 (233)\ttotal: 6.28s\tremaining: 20.6s\n",
      "234:\tlearn: 0.3462293\ttest: 0.3639657\tbest: 0.3636940 (233)\ttotal: 6.3s\tremaining: 20.5s\n",
      "235:\tlearn: 0.3457094\ttest: 0.3638662\tbest: 0.3636940 (233)\ttotal: 6.33s\tremaining: 20.5s\n",
      "236:\tlearn: 0.3447053\ttest: 0.3632624\tbest: 0.3632624 (236)\ttotal: 6.35s\tremaining: 20.4s\n",
      "237:\tlearn: 0.3446902\ttest: 0.3632576\tbest: 0.3632576 (237)\ttotal: 6.36s\tremaining: 20.4s\n",
      "238:\tlearn: 0.3446897\ttest: 0.3632549\tbest: 0.3632549 (238)\ttotal: 6.37s\tremaining: 20.3s\n",
      "239:\tlearn: 0.3441682\ttest: 0.3630522\tbest: 0.3630522 (239)\ttotal: 6.39s\tremaining: 20.2s\n",
      "240:\tlearn: 0.3440205\ttest: 0.3631459\tbest: 0.3630522 (239)\ttotal: 6.41s\tremaining: 20.2s\n",
      "241:\tlearn: 0.3424863\ttest: 0.3633407\tbest: 0.3630522 (239)\ttotal: 6.43s\tremaining: 20.1s\n",
      "242:\tlearn: 0.3420351\ttest: 0.3628965\tbest: 0.3628965 (242)\ttotal: 6.45s\tremaining: 20.1s\n",
      "243:\tlearn: 0.3415083\ttest: 0.3627050\tbest: 0.3627050 (243)\ttotal: 6.47s\tremaining: 20.1s\n",
      "244:\tlearn: 0.3402092\ttest: 0.3623838\tbest: 0.3623838 (244)\ttotal: 6.49s\tremaining: 20s\n",
      "245:\tlearn: 0.3400685\ttest: 0.3623996\tbest: 0.3623838 (244)\ttotal: 6.51s\tremaining: 19.9s\n",
      "246:\tlearn: 0.3396718\ttest: 0.3621378\tbest: 0.3621378 (246)\ttotal: 6.53s\tremaining: 19.9s\n",
      "247:\tlearn: 0.3394428\ttest: 0.3620325\tbest: 0.3620325 (247)\ttotal: 6.55s\tremaining: 19.9s\n",
      "248:\tlearn: 0.3392938\ttest: 0.3616008\tbest: 0.3616008 (248)\ttotal: 6.56s\tremaining: 19.8s\n",
      "249:\tlearn: 0.3387319\ttest: 0.3620823\tbest: 0.3616008 (248)\ttotal: 6.58s\tremaining: 19.7s\n",
      "250:\tlearn: 0.3380963\ttest: 0.3618804\tbest: 0.3616008 (248)\ttotal: 6.6s\tremaining: 19.7s\n",
      "251:\tlearn: 0.3377856\ttest: 0.3617669\tbest: 0.3616008 (248)\ttotal: 6.62s\tremaining: 19.6s\n",
      "252:\tlearn: 0.3373301\ttest: 0.3616234\tbest: 0.3616008 (248)\ttotal: 6.64s\tremaining: 19.6s\n",
      "253:\tlearn: 0.3361115\ttest: 0.3615820\tbest: 0.3615820 (253)\ttotal: 6.67s\tremaining: 19.6s\n",
      "254:\tlearn: 0.3356020\ttest: 0.3613909\tbest: 0.3613909 (254)\ttotal: 6.7s\tremaining: 19.6s\n",
      "255:\tlearn: 0.3339742\ttest: 0.3609608\tbest: 0.3609608 (255)\ttotal: 6.72s\tremaining: 19.5s\n",
      "256:\tlearn: 0.3336462\ttest: 0.3608839\tbest: 0.3608839 (256)\ttotal: 6.74s\tremaining: 19.5s\n",
      "257:\tlearn: 0.3335059\ttest: 0.3610203\tbest: 0.3608839 (256)\ttotal: 6.75s\tremaining: 19.4s\n",
      "258:\tlearn: 0.3334103\ttest: 0.3610624\tbest: 0.3608839 (256)\ttotal: 6.76s\tremaining: 19.4s\n",
      "259:\tlearn: 0.3330896\ttest: 0.3607536\tbest: 0.3607536 (259)\ttotal: 6.78s\tremaining: 19.3s\n",
      "260:\tlearn: 0.3329078\ttest: 0.3608747\tbest: 0.3607536 (259)\ttotal: 6.8s\tremaining: 19.3s\n",
      "261:\tlearn: 0.3327204\ttest: 0.3606334\tbest: 0.3606334 (261)\ttotal: 6.82s\tremaining: 19.2s\n",
      "262:\tlearn: 0.3320529\ttest: 0.3603032\tbest: 0.3603032 (262)\ttotal: 6.84s\tremaining: 19.2s\n",
      "263:\tlearn: 0.3314215\ttest: 0.3601103\tbest: 0.3601103 (263)\ttotal: 6.87s\tremaining: 19.1s\n",
      "264:\tlearn: 0.3311540\ttest: 0.3598184\tbest: 0.3598184 (264)\ttotal: 6.88s\tremaining: 19.1s\n",
      "265:\tlearn: 0.3301569\ttest: 0.3602806\tbest: 0.3598184 (264)\ttotal: 6.91s\tremaining: 19.1s\n",
      "266:\tlearn: 0.3297782\ttest: 0.3599088\tbest: 0.3598184 (264)\ttotal: 6.93s\tremaining: 19s\n",
      "267:\tlearn: 0.3292274\ttest: 0.3602861\tbest: 0.3598184 (264)\ttotal: 6.94s\tremaining: 19s\n",
      "268:\tlearn: 0.3288911\ttest: 0.3601834\tbest: 0.3598184 (264)\ttotal: 6.96s\tremaining: 18.9s\n",
      "269:\tlearn: 0.3285991\ttest: 0.3601262\tbest: 0.3598184 (264)\ttotal: 6.98s\tremaining: 18.9s\n",
      "270:\tlearn: 0.3280316\ttest: 0.3598980\tbest: 0.3598184 (264)\ttotal: 7.01s\tremaining: 18.9s\n",
      "271:\tlearn: 0.3276453\ttest: 0.3597494\tbest: 0.3597494 (271)\ttotal: 7.04s\tremaining: 18.8s\n",
      "272:\tlearn: 0.3269908\ttest: 0.3590936\tbest: 0.3590936 (272)\ttotal: 7.06s\tremaining: 18.8s\n",
      "273:\tlearn: 0.3257755\ttest: 0.3584789\tbest: 0.3584789 (273)\ttotal: 7.09s\tremaining: 18.8s\n",
      "274:\tlearn: 0.3255293\ttest: 0.3583724\tbest: 0.3583724 (274)\ttotal: 7.11s\tremaining: 18.7s\n",
      "275:\tlearn: 0.3244947\ttest: 0.3578036\tbest: 0.3578036 (275)\ttotal: 7.14s\tremaining: 18.7s\n",
      "276:\tlearn: 0.3234760\ttest: 0.3580326\tbest: 0.3578036 (275)\ttotal: 7.16s\tremaining: 18.7s\n",
      "277:\tlearn: 0.3232466\ttest: 0.3580723\tbest: 0.3578036 (275)\ttotal: 7.17s\tremaining: 18.6s\n",
      "278:\tlearn: 0.3227586\ttest: 0.3584306\tbest: 0.3578036 (275)\ttotal: 7.2s\tremaining: 18.6s\n",
      "279:\tlearn: 0.3217194\ttest: 0.3584364\tbest: 0.3578036 (275)\ttotal: 7.21s\tremaining: 18.6s\n",
      "280:\tlearn: 0.3214993\ttest: 0.3583189\tbest: 0.3578036 (275)\ttotal: 7.23s\tremaining: 18.5s\n",
      "281:\tlearn: 0.3213807\ttest: 0.3581544\tbest: 0.3578036 (275)\ttotal: 7.24s\tremaining: 18.4s\n",
      "282:\tlearn: 0.3211167\ttest: 0.3579807\tbest: 0.3578036 (275)\ttotal: 7.26s\tremaining: 18.4s\n",
      "283:\tlearn: 0.3204171\ttest: 0.3581221\tbest: 0.3578036 (275)\ttotal: 7.28s\tremaining: 18.3s\n",
      "284:\tlearn: 0.3191684\ttest: 0.3578303\tbest: 0.3578036 (275)\ttotal: 7.3s\tremaining: 18.3s\n",
      "285:\tlearn: 0.3181532\ttest: 0.3576100\tbest: 0.3576100 (285)\ttotal: 7.32s\tremaining: 18.3s\n",
      "286:\tlearn: 0.3173609\ttest: 0.3571578\tbest: 0.3571578 (286)\ttotal: 7.34s\tremaining: 18.2s\n",
      "287:\tlearn: 0.3170466\ttest: 0.3573143\tbest: 0.3571578 (286)\ttotal: 7.36s\tremaining: 18.2s\n",
      "288:\tlearn: 0.3162532\ttest: 0.3570914\tbest: 0.3570914 (288)\ttotal: 7.38s\tremaining: 18.2s\n",
      "289:\tlearn: 0.3160398\ttest: 0.3569658\tbest: 0.3569658 (289)\ttotal: 7.39s\tremaining: 18.1s\n",
      "290:\tlearn: 0.3150547\ttest: 0.3569558\tbest: 0.3569558 (290)\ttotal: 7.41s\tremaining: 18.1s\n",
      "291:\tlearn: 0.3146525\ttest: 0.3568259\tbest: 0.3568259 (291)\ttotal: 7.43s\tremaining: 18s\n",
      "292:\tlearn: 0.3139444\ttest: 0.3567365\tbest: 0.3567365 (292)\ttotal: 7.45s\tremaining: 18s\n",
      "293:\tlearn: 0.3134091\ttest: 0.3566966\tbest: 0.3566966 (293)\ttotal: 7.49s\tremaining: 18s\n",
      "294:\tlearn: 0.3133614\ttest: 0.3567225\tbest: 0.3566966 (293)\ttotal: 7.5s\tremaining: 17.9s\n",
      "295:\tlearn: 0.3130570\ttest: 0.3563833\tbest: 0.3563833 (295)\ttotal: 7.52s\tremaining: 17.9s\n",
      "296:\tlearn: 0.3127154\ttest: 0.3564814\tbest: 0.3563833 (295)\ttotal: 7.54s\tremaining: 17.9s\n",
      "297:\tlearn: 0.3116594\ttest: 0.3560041\tbest: 0.3560041 (297)\ttotal: 7.56s\tremaining: 17.8s\n",
      "298:\tlearn: 0.3114108\ttest: 0.3559629\tbest: 0.3559629 (298)\ttotal: 7.58s\tremaining: 17.8s\n",
      "299:\tlearn: 0.3109741\ttest: 0.3559923\tbest: 0.3559629 (298)\ttotal: 7.59s\tremaining: 17.7s\n",
      "300:\tlearn: 0.3104807\ttest: 0.3559734\tbest: 0.3559629 (298)\ttotal: 7.61s\tremaining: 17.7s\n",
      "301:\tlearn: 0.3104314\ttest: 0.3558641\tbest: 0.3558641 (301)\ttotal: 7.63s\tremaining: 17.6s\n",
      "302:\tlearn: 0.3102790\ttest: 0.3560032\tbest: 0.3558641 (301)\ttotal: 7.64s\tremaining: 17.6s\n",
      "303:\tlearn: 0.3095320\ttest: 0.3562847\tbest: 0.3558641 (301)\ttotal: 7.66s\tremaining: 17.5s\n",
      "304:\tlearn: 0.3083904\ttest: 0.3562474\tbest: 0.3558641 (301)\ttotal: 7.69s\tremaining: 17.5s\n",
      "305:\tlearn: 0.3079305\ttest: 0.3558227\tbest: 0.3558227 (305)\ttotal: 7.71s\tremaining: 17.5s\n",
      "306:\tlearn: 0.3069087\ttest: 0.3556906\tbest: 0.3556906 (306)\ttotal: 7.72s\tremaining: 17.4s\n",
      "307:\tlearn: 0.3066569\ttest: 0.3559391\tbest: 0.3556906 (306)\ttotal: 7.74s\tremaining: 17.4s\n",
      "308:\tlearn: 0.3061166\ttest: 0.3558012\tbest: 0.3556906 (306)\ttotal: 7.77s\tremaining: 17.4s\n",
      "309:\tlearn: 0.3059939\ttest: 0.3557812\tbest: 0.3556906 (306)\ttotal: 7.8s\tremaining: 17.4s\n",
      "310:\tlearn: 0.3058724\ttest: 0.3558275\tbest: 0.3556906 (306)\ttotal: 7.83s\tremaining: 17.3s\n",
      "311:\tlearn: 0.3052093\ttest: 0.3562417\tbest: 0.3556906 (306)\ttotal: 7.85s\tremaining: 17.3s\n",
      "312:\tlearn: 0.3048410\ttest: 0.3561849\tbest: 0.3556906 (306)\ttotal: 7.87s\tremaining: 17.3s\n",
      "313:\tlearn: 0.3035071\ttest: 0.3557292\tbest: 0.3556906 (306)\ttotal: 7.89s\tremaining: 17.2s\n",
      "314:\tlearn: 0.3033170\ttest: 0.3556339\tbest: 0.3556339 (314)\ttotal: 7.91s\tremaining: 17.2s\n",
      "315:\tlearn: 0.3031818\ttest: 0.3554294\tbest: 0.3554294 (315)\ttotal: 7.92s\tremaining: 17.2s\n",
      "316:\tlearn: 0.3026483\ttest: 0.3555034\tbest: 0.3554294 (315)\ttotal: 7.94s\tremaining: 17.1s\n",
      "317:\tlearn: 0.3025016\ttest: 0.3554275\tbest: 0.3554275 (317)\ttotal: 7.96s\tremaining: 17.1s\n",
      "318:\tlearn: 0.3022802\ttest: 0.3554600\tbest: 0.3554275 (317)\ttotal: 7.98s\tremaining: 17s\n",
      "319:\tlearn: 0.3020419\ttest: 0.3552015\tbest: 0.3552015 (319)\ttotal: 8s\tremaining: 17s\n",
      "320:\tlearn: 0.3016176\ttest: 0.3549463\tbest: 0.3549463 (320)\ttotal: 8.03s\tremaining: 17s\n",
      "321:\tlearn: 0.3013086\ttest: 0.3549515\tbest: 0.3549463 (320)\ttotal: 8.05s\tremaining: 16.9s\n",
      "322:\tlearn: 0.3005989\ttest: 0.3555347\tbest: 0.3549463 (320)\ttotal: 8.07s\tremaining: 16.9s\n",
      "323:\tlearn: 0.3004203\ttest: 0.3555280\tbest: 0.3549463 (320)\ttotal: 8.09s\tremaining: 16.9s\n",
      "324:\tlearn: 0.2998515\ttest: 0.3556553\tbest: 0.3549463 (320)\ttotal: 8.11s\tremaining: 16.9s\n",
      "325:\tlearn: 0.2982497\ttest: 0.3560180\tbest: 0.3549463 (320)\ttotal: 8.14s\tremaining: 16.8s\n",
      "326:\tlearn: 0.2980504\ttest: 0.3559358\tbest: 0.3549463 (320)\ttotal: 8.16s\tremaining: 16.8s\n",
      "327:\tlearn: 0.2977330\ttest: 0.3557492\tbest: 0.3549463 (320)\ttotal: 8.18s\tremaining: 16.8s\n",
      "328:\tlearn: 0.2971852\ttest: 0.3554047\tbest: 0.3549463 (320)\ttotal: 8.2s\tremaining: 16.7s\n",
      "329:\tlearn: 0.2970488\ttest: 0.3554823\tbest: 0.3549463 (320)\ttotal: 8.22s\tremaining: 16.7s\n",
      "330:\tlearn: 0.2963542\ttest: 0.3554117\tbest: 0.3549463 (320)\ttotal: 8.24s\tremaining: 16.6s\n",
      "Stopped by overfitting detector  (10 iterations wait)\n",
      "\n",
      "bestTest = 0.354946341\n",
      "bestIteration = 320\n",
      "\n",
      "Shrink model to first 321 iterations.\n"
     ]
    },
    {
     "data": {
      "text/plain": [
       "<catboost.core.CatBoostClassifier at 0x407a6f3450>"
      ]
     },
     "execution_count": 5,
     "metadata": {},
     "output_type": "execute_result"
    }
   ],
   "source": [
    "cbc = CatBoostClassifier(iterations=1000, learning_rate=0.01, cat_features=cat_cols)\n",
    "eval_set = [(X_test, y_test)]\n",
    "# 学習\n",
    "cbc.fit(X_train, y_train, eval_set=eval_set, early_stopping_rounds=10, verbose=True)"
   ]
  },
  {
   "cell_type": "code",
   "execution_count": 6,
   "metadata": {},
   "outputs": [
    {
     "name": "stdout",
     "output_type": "stream",
     "text": [
      "catboost AUC: 0.8942307692307693\n"
     ]
    }
   ],
   "source": [
    "# 予測と評価\n",
    "y_pred_cbc = cbc.predict_proba(X_test)\n",
    "print(f\"catboost AUC: {roc_auc_score(y_test, y_pred_cbc[:, 1])}\")"
   ]
  },
  {
   "cell_type": "code",
   "execution_count": 7,
   "metadata": {},
   "outputs": [
    {
     "ename": "ExecutableNotFound",
     "evalue": "failed to execute PosixPath('dot'), make sure the Graphviz executables are on your systems' PATH",
     "output_type": "error",
     "traceback": [
      "\u001b[0;31m---------------------------------------------------------------------------\u001b[0m",
      "\u001b[0;31mFileNotFoundError\u001b[0m                         Traceback (most recent call last)",
      "\u001b[0;32m/opt/anaconda3/lib/python3.7/site-packages/graphviz/backend/execute.py\u001b[0m in \u001b[0;36mrun_check\u001b[0;34m(cmd, input_lines, encoding, quiet, **kwargs)\u001b[0m\n\u001b[1;32m     78\u001b[0m                 \u001b[0mkwargs\u001b[0m\u001b[0;34m[\u001b[0m\u001b[0;34m'stdout'\u001b[0m\u001b[0;34m]\u001b[0m \u001b[0;34m=\u001b[0m \u001b[0mkwargs\u001b[0m\u001b[0;34m[\u001b[0m\u001b[0;34m'stderr'\u001b[0m\u001b[0;34m]\u001b[0m \u001b[0;34m=\u001b[0m \u001b[0msubprocess\u001b[0m\u001b[0;34m.\u001b[0m\u001b[0mPIPE\u001b[0m\u001b[0;34m\u001b[0m\u001b[0;34m\u001b[0m\u001b[0m\n\u001b[0;32m---> 79\u001b[0;31m             \u001b[0mproc\u001b[0m \u001b[0;34m=\u001b[0m \u001b[0m_run_input_lines\u001b[0m\u001b[0;34m(\u001b[0m\u001b[0mcmd\u001b[0m\u001b[0;34m,\u001b[0m \u001b[0minput_lines\u001b[0m\u001b[0;34m,\u001b[0m \u001b[0mkwargs\u001b[0m\u001b[0;34m=\u001b[0m\u001b[0mkwargs\u001b[0m\u001b[0;34m)\u001b[0m\u001b[0;34m\u001b[0m\u001b[0;34m\u001b[0m\u001b[0m\n\u001b[0m\u001b[1;32m     80\u001b[0m         \u001b[0;32melse\u001b[0m\u001b[0;34m:\u001b[0m\u001b[0;34m\u001b[0m\u001b[0;34m\u001b[0m\u001b[0m\n",
      "\u001b[0;32m/opt/anaconda3/lib/python3.7/site-packages/graphviz/backend/execute.py\u001b[0m in \u001b[0;36m_run_input_lines\u001b[0;34m(cmd, input_lines, kwargs)\u001b[0m\n\u001b[1;32m     98\u001b[0m \u001b[0;32mdef\u001b[0m \u001b[0m_run_input_lines\u001b[0m\u001b[0;34m(\u001b[0m\u001b[0mcmd\u001b[0m\u001b[0;34m,\u001b[0m \u001b[0minput_lines\u001b[0m\u001b[0;34m,\u001b[0m \u001b[0;34m*\u001b[0m\u001b[0;34m,\u001b[0m \u001b[0mkwargs\u001b[0m\u001b[0;34m)\u001b[0m\u001b[0;34m:\u001b[0m\u001b[0;34m\u001b[0m\u001b[0;34m\u001b[0m\u001b[0m\n\u001b[0;32m---> 99\u001b[0;31m     \u001b[0mpopen\u001b[0m \u001b[0;34m=\u001b[0m \u001b[0msubprocess\u001b[0m\u001b[0;34m.\u001b[0m\u001b[0mPopen\u001b[0m\u001b[0;34m(\u001b[0m\u001b[0mcmd\u001b[0m\u001b[0;34m,\u001b[0m \u001b[0mstdin\u001b[0m\u001b[0;34m=\u001b[0m\u001b[0msubprocess\u001b[0m\u001b[0;34m.\u001b[0m\u001b[0mPIPE\u001b[0m\u001b[0;34m,\u001b[0m \u001b[0;34m**\u001b[0m\u001b[0mkwargs\u001b[0m\u001b[0;34m)\u001b[0m\u001b[0;34m\u001b[0m\u001b[0;34m\u001b[0m\u001b[0m\n\u001b[0m\u001b[1;32m    100\u001b[0m \u001b[0;34m\u001b[0m\u001b[0m\n",
      "\u001b[0;32m/opt/anaconda3/lib/python3.7/subprocess.py\u001b[0m in \u001b[0;36m__init__\u001b[0;34m(self, args, bufsize, executable, stdin, stdout, stderr, preexec_fn, close_fds, shell, cwd, env, universal_newlines, startupinfo, creationflags, restore_signals, start_new_session, pass_fds, encoding, errors, text)\u001b[0m\n\u001b[1;32m    799\u001b[0m                                 \u001b[0merrread\u001b[0m\u001b[0;34m,\u001b[0m \u001b[0merrwrite\u001b[0m\u001b[0;34m,\u001b[0m\u001b[0;34m\u001b[0m\u001b[0;34m\u001b[0m\u001b[0m\n\u001b[0;32m--> 800\u001b[0;31m                                 restore_signals, start_new_session)\n\u001b[0m\u001b[1;32m    801\u001b[0m         \u001b[0;32mexcept\u001b[0m\u001b[0;34m:\u001b[0m\u001b[0;34m\u001b[0m\u001b[0;34m\u001b[0m\u001b[0m\n",
      "\u001b[0;32m/opt/anaconda3/lib/python3.7/subprocess.py\u001b[0m in \u001b[0;36m_execute_child\u001b[0;34m(self, args, executable, preexec_fn, close_fds, pass_fds, cwd, env, startupinfo, creationflags, shell, p2cread, p2cwrite, c2pread, c2pwrite, errread, errwrite, restore_signals, start_new_session)\u001b[0m\n\u001b[1;32m   1550\u001b[0m                             \u001b[0merr_msg\u001b[0m \u001b[0;34m+=\u001b[0m \u001b[0;34m': '\u001b[0m \u001b[0;34m+\u001b[0m \u001b[0mrepr\u001b[0m\u001b[0;34m(\u001b[0m\u001b[0merr_filename\u001b[0m\u001b[0;34m)\u001b[0m\u001b[0;34m\u001b[0m\u001b[0;34m\u001b[0m\u001b[0m\n\u001b[0;32m-> 1551\u001b[0;31m                     \u001b[0;32mraise\u001b[0m \u001b[0mchild_exception_type\u001b[0m\u001b[0;34m(\u001b[0m\u001b[0merrno_num\u001b[0m\u001b[0;34m,\u001b[0m \u001b[0merr_msg\u001b[0m\u001b[0;34m,\u001b[0m \u001b[0merr_filename\u001b[0m\u001b[0;34m)\u001b[0m\u001b[0;34m\u001b[0m\u001b[0;34m\u001b[0m\u001b[0m\n\u001b[0m\u001b[1;32m   1552\u001b[0m                 \u001b[0;32mraise\u001b[0m \u001b[0mchild_exception_type\u001b[0m\u001b[0;34m(\u001b[0m\u001b[0merr_msg\u001b[0m\u001b[0;34m)\u001b[0m\u001b[0;34m\u001b[0m\u001b[0;34m\u001b[0m\u001b[0m\n",
      "\u001b[0;31mFileNotFoundError\u001b[0m: [Errno 2] No such file or directory: PosixPath('dot'): PosixPath('dot')",
      "\nThe above exception was the direct cause of the following exception:\n",
      "\u001b[0;31mExecutableNotFound\u001b[0m                        Traceback (most recent call last)",
      "\u001b[0;32m/opt/anaconda3/lib/python3.7/site-packages/IPython/core/formatters.py\u001b[0m in \u001b[0;36m__call__\u001b[0;34m(self, obj, include, exclude)\u001b[0m\n\u001b[1;32m    968\u001b[0m \u001b[0;34m\u001b[0m\u001b[0m\n\u001b[1;32m    969\u001b[0m             \u001b[0;32mif\u001b[0m \u001b[0mmethod\u001b[0m \u001b[0;32mis\u001b[0m \u001b[0;32mnot\u001b[0m \u001b[0;32mNone\u001b[0m\u001b[0;34m:\u001b[0m\u001b[0;34m\u001b[0m\u001b[0;34m\u001b[0m\u001b[0m\n\u001b[0;32m--> 970\u001b[0;31m                 \u001b[0;32mreturn\u001b[0m \u001b[0mmethod\u001b[0m\u001b[0;34m(\u001b[0m\u001b[0minclude\u001b[0m\u001b[0;34m=\u001b[0m\u001b[0minclude\u001b[0m\u001b[0;34m,\u001b[0m \u001b[0mexclude\u001b[0m\u001b[0;34m=\u001b[0m\u001b[0mexclude\u001b[0m\u001b[0;34m)\u001b[0m\u001b[0;34m\u001b[0m\u001b[0;34m\u001b[0m\u001b[0m\n\u001b[0m\u001b[1;32m    971\u001b[0m             \u001b[0;32mreturn\u001b[0m \u001b[0;32mNone\u001b[0m\u001b[0;34m\u001b[0m\u001b[0;34m\u001b[0m\u001b[0m\n\u001b[1;32m    972\u001b[0m         \u001b[0;32melse\u001b[0m\u001b[0;34m:\u001b[0m\u001b[0;34m\u001b[0m\u001b[0;34m\u001b[0m\u001b[0m\n",
      "\u001b[0;32m/opt/anaconda3/lib/python3.7/site-packages/graphviz/jupyter_integration.py\u001b[0m in \u001b[0;36m_repr_mimebundle_\u001b[0;34m(self, include, exclude, **_)\u001b[0m\n\u001b[1;32m     97\u001b[0m         \u001b[0minclude\u001b[0m \u001b[0;34m-=\u001b[0m \u001b[0mset\u001b[0m\u001b[0;34m(\u001b[0m\u001b[0mexclude\u001b[0m \u001b[0;32mor\u001b[0m \u001b[0;34m[\u001b[0m\u001b[0;34m]\u001b[0m\u001b[0;34m)\u001b[0m\u001b[0;34m\u001b[0m\u001b[0;34m\u001b[0m\u001b[0m\n\u001b[1;32m     98\u001b[0m         return {mimetype: getattr(self, method_name)()\n\u001b[0;32m---> 99\u001b[0;31m                 \u001b[0;32mfor\u001b[0m \u001b[0mmimetype\u001b[0m\u001b[0;34m,\u001b[0m \u001b[0mmethod_name\u001b[0m \u001b[0;32min\u001b[0m \u001b[0mMIME_TYPES\u001b[0m\u001b[0;34m.\u001b[0m\u001b[0mitems\u001b[0m\u001b[0;34m(\u001b[0m\u001b[0;34m)\u001b[0m\u001b[0;34m\u001b[0m\u001b[0;34m\u001b[0m\u001b[0m\n\u001b[0m\u001b[1;32m    100\u001b[0m                 if mimetype in include}\n\u001b[1;32m    101\u001b[0m \u001b[0;34m\u001b[0m\u001b[0m\n",
      "\u001b[0;32m/opt/anaconda3/lib/python3.7/site-packages/graphviz/jupyter_integration.py\u001b[0m in \u001b[0;36m<dictcomp>\u001b[0;34m(.0)\u001b[0m\n\u001b[1;32m     98\u001b[0m         return {mimetype: getattr(self, method_name)()\n\u001b[1;32m     99\u001b[0m                 \u001b[0;32mfor\u001b[0m \u001b[0mmimetype\u001b[0m\u001b[0;34m,\u001b[0m \u001b[0mmethod_name\u001b[0m \u001b[0;32min\u001b[0m \u001b[0mMIME_TYPES\u001b[0m\u001b[0;34m.\u001b[0m\u001b[0mitems\u001b[0m\u001b[0;34m(\u001b[0m\u001b[0;34m)\u001b[0m\u001b[0;34m\u001b[0m\u001b[0;34m\u001b[0m\u001b[0m\n\u001b[0;32m--> 100\u001b[0;31m                 if mimetype in include}\n\u001b[0m\u001b[1;32m    101\u001b[0m \u001b[0;34m\u001b[0m\u001b[0m\n\u001b[1;32m    102\u001b[0m     \u001b[0;32mdef\u001b[0m \u001b[0m_repr_image_jpeg\u001b[0m\u001b[0;34m(\u001b[0m\u001b[0mself\u001b[0m\u001b[0;34m)\u001b[0m \u001b[0;34m->\u001b[0m \u001b[0mbytes\u001b[0m\u001b[0;34m:\u001b[0m\u001b[0;34m\u001b[0m\u001b[0;34m\u001b[0m\u001b[0m\n",
      "\u001b[0;32m/opt/anaconda3/lib/python3.7/site-packages/graphviz/jupyter_integration.py\u001b[0m in \u001b[0;36m_repr_image_svg_xml\u001b[0;34m(self)\u001b[0m\n\u001b[1;32m    110\u001b[0m     \u001b[0;32mdef\u001b[0m \u001b[0m_repr_image_svg_xml\u001b[0m\u001b[0;34m(\u001b[0m\u001b[0mself\u001b[0m\u001b[0;34m)\u001b[0m \u001b[0;34m->\u001b[0m \u001b[0mstr\u001b[0m\u001b[0;34m:\u001b[0m\u001b[0;34m\u001b[0m\u001b[0;34m\u001b[0m\u001b[0m\n\u001b[1;32m    111\u001b[0m         \u001b[0;34m\"\"\"Return the rendered graph as SVG string.\"\"\"\u001b[0m\u001b[0;34m\u001b[0m\u001b[0;34m\u001b[0m\u001b[0m\n\u001b[0;32m--> 112\u001b[0;31m         \u001b[0;32mreturn\u001b[0m \u001b[0mself\u001b[0m\u001b[0;34m.\u001b[0m\u001b[0mpipe\u001b[0m\u001b[0;34m(\u001b[0m\u001b[0mformat\u001b[0m\u001b[0;34m=\u001b[0m\u001b[0;34m'svg'\u001b[0m\u001b[0;34m,\u001b[0m \u001b[0mencoding\u001b[0m\u001b[0;34m=\u001b[0m\u001b[0mSVG_ENCODING\u001b[0m\u001b[0;34m)\u001b[0m\u001b[0;34m\u001b[0m\u001b[0;34m\u001b[0m\u001b[0m\n\u001b[0m",
      "\u001b[0;32m/opt/anaconda3/lib/python3.7/site-packages/graphviz/piping.py\u001b[0m in \u001b[0;36mpipe\u001b[0;34m(self, format, renderer, formatter, neato_no_op, quiet, engine, encoding)\u001b[0m\n\u001b[1;32m    108\u001b[0m                                  \u001b[0mquiet\u001b[0m\u001b[0;34m=\u001b[0m\u001b[0mquiet\u001b[0m\u001b[0;34m,\u001b[0m\u001b[0;34m\u001b[0m\u001b[0;34m\u001b[0m\u001b[0m\n\u001b[1;32m    109\u001b[0m                                  \u001b[0mengine\u001b[0m\u001b[0;34m=\u001b[0m\u001b[0mengine\u001b[0m\u001b[0;34m,\u001b[0m\u001b[0;34m\u001b[0m\u001b[0;34m\u001b[0m\u001b[0m\n\u001b[0;32m--> 110\u001b[0;31m                                  encoding=encoding)\n\u001b[0m\u001b[1;32m    111\u001b[0m \u001b[0;34m\u001b[0m\u001b[0m\n\u001b[1;32m    112\u001b[0m     \u001b[0;34m@\u001b[0m\u001b[0m_tools\u001b[0m\u001b[0;34m.\u001b[0m\u001b[0mdeprecate_positional_args\u001b[0m\u001b[0;34m(\u001b[0m\u001b[0msupported_number\u001b[0m\u001b[0;34m=\u001b[0m\u001b[0;36m2\u001b[0m\u001b[0;34m)\u001b[0m\u001b[0;34m\u001b[0m\u001b[0;34m\u001b[0m\u001b[0m\n",
      "\u001b[0;32m/opt/anaconda3/lib/python3.7/site-packages/graphviz/_tools.py\u001b[0m in \u001b[0;36mwrapper\u001b[0;34m(*args, **kwargs)\u001b[0m\n\u001b[1;32m    169\u001b[0m                               category=category)\n\u001b[1;32m    170\u001b[0m \u001b[0;34m\u001b[0m\u001b[0m\n\u001b[0;32m--> 171\u001b[0;31m             \u001b[0;32mreturn\u001b[0m \u001b[0mfunc\u001b[0m\u001b[0;34m(\u001b[0m\u001b[0;34m*\u001b[0m\u001b[0margs\u001b[0m\u001b[0;34m,\u001b[0m \u001b[0;34m**\u001b[0m\u001b[0mkwargs\u001b[0m\u001b[0;34m)\u001b[0m\u001b[0;34m\u001b[0m\u001b[0;34m\u001b[0m\u001b[0m\n\u001b[0m\u001b[1;32m    172\u001b[0m \u001b[0;34m\u001b[0m\u001b[0m\n\u001b[1;32m    173\u001b[0m         \u001b[0;32mreturn\u001b[0m \u001b[0mwrapper\u001b[0m\u001b[0;34m\u001b[0m\u001b[0;34m\u001b[0m\u001b[0m\n",
      "\u001b[0;32m/opt/anaconda3/lib/python3.7/site-packages/graphviz/piping.py\u001b[0m in \u001b[0;36m_pipe_legacy\u001b[0;34m(self, format, renderer, formatter, neato_no_op, quiet, engine, encoding)\u001b[0m\n\u001b[1;32m    125\u001b[0m                                  \u001b[0mquiet\u001b[0m\u001b[0;34m=\u001b[0m\u001b[0mquiet\u001b[0m\u001b[0;34m,\u001b[0m\u001b[0;34m\u001b[0m\u001b[0;34m\u001b[0m\u001b[0m\n\u001b[1;32m    126\u001b[0m                                  \u001b[0mengine\u001b[0m\u001b[0;34m=\u001b[0m\u001b[0mengine\u001b[0m\u001b[0;34m,\u001b[0m\u001b[0;34m\u001b[0m\u001b[0;34m\u001b[0m\u001b[0m\n\u001b[0;32m--> 127\u001b[0;31m                                  encoding=encoding)\n\u001b[0m\u001b[1;32m    128\u001b[0m \u001b[0;34m\u001b[0m\u001b[0m\n\u001b[1;32m    129\u001b[0m     def _pipe_future(self, format: typing.Optional[str] = None, *,\n",
      "\u001b[0;32m/opt/anaconda3/lib/python3.7/site-packages/graphviz/piping.py\u001b[0m in \u001b[0;36m_pipe_future\u001b[0;34m(self, format, renderer, formatter, neato_no_op, quiet, engine, encoding)\u001b[0m\n\u001b[1;32m    147\u001b[0m             \u001b[0;32mif\u001b[0m \u001b[0mcodecs\u001b[0m\u001b[0;34m.\u001b[0m\u001b[0mlookup\u001b[0m\u001b[0;34m(\u001b[0m\u001b[0mencoding\u001b[0m\u001b[0;34m)\u001b[0m \u001b[0;32mis\u001b[0m \u001b[0mcodecs\u001b[0m\u001b[0;34m.\u001b[0m\u001b[0mlookup\u001b[0m\u001b[0;34m(\u001b[0m\u001b[0mself\u001b[0m\u001b[0;34m.\u001b[0m\u001b[0mencoding\u001b[0m\u001b[0;34m)\u001b[0m\u001b[0;34m:\u001b[0m\u001b[0;34m\u001b[0m\u001b[0;34m\u001b[0m\u001b[0m\n\u001b[1;32m    148\u001b[0m                 \u001b[0;31m# common case: both stdin and stdout need the same encoding\u001b[0m\u001b[0;34m\u001b[0m\u001b[0;34m\u001b[0m\u001b[0;34m\u001b[0m\u001b[0m\n\u001b[0;32m--> 149\u001b[0;31m                 \u001b[0;32mreturn\u001b[0m \u001b[0mself\u001b[0m\u001b[0;34m.\u001b[0m\u001b[0m_pipe_lines_string\u001b[0m\u001b[0;34m(\u001b[0m\u001b[0;34m*\u001b[0m\u001b[0margs\u001b[0m\u001b[0;34m,\u001b[0m \u001b[0mencoding\u001b[0m\u001b[0;34m=\u001b[0m\u001b[0mencoding\u001b[0m\u001b[0;34m,\u001b[0m \u001b[0;34m**\u001b[0m\u001b[0mkwargs\u001b[0m\u001b[0;34m)\u001b[0m\u001b[0;34m\u001b[0m\u001b[0;34m\u001b[0m\u001b[0m\n\u001b[0m\u001b[1;32m    150\u001b[0m             \u001b[0;32mtry\u001b[0m\u001b[0;34m:\u001b[0m\u001b[0;34m\u001b[0m\u001b[0;34m\u001b[0m\u001b[0m\n\u001b[1;32m    151\u001b[0m                 \u001b[0mraw\u001b[0m \u001b[0;34m=\u001b[0m \u001b[0mself\u001b[0m\u001b[0;34m.\u001b[0m\u001b[0m_pipe_lines\u001b[0m\u001b[0;34m(\u001b[0m\u001b[0;34m*\u001b[0m\u001b[0margs\u001b[0m\u001b[0;34m,\u001b[0m \u001b[0minput_encoding\u001b[0m\u001b[0;34m=\u001b[0m\u001b[0mself\u001b[0m\u001b[0;34m.\u001b[0m\u001b[0mencoding\u001b[0m\u001b[0;34m,\u001b[0m \u001b[0;34m**\u001b[0m\u001b[0mkwargs\u001b[0m\u001b[0;34m)\u001b[0m\u001b[0;34m\u001b[0m\u001b[0;34m\u001b[0m\u001b[0m\n",
      "\u001b[0;32m/opt/anaconda3/lib/python3.7/site-packages/graphviz/backend/piping.py\u001b[0m in \u001b[0;36mpipe_lines_string\u001b[0;34m(engine, format, input_lines, encoding, renderer, formatter, neato_no_op, quiet)\u001b[0m\n\u001b[1;32m    210\u001b[0m     \u001b[0mkwargs\u001b[0m \u001b[0;34m=\u001b[0m \u001b[0;34m{\u001b[0m\u001b[0;34m'input_lines'\u001b[0m\u001b[0;34m:\u001b[0m \u001b[0minput_lines\u001b[0m\u001b[0;34m,\u001b[0m \u001b[0;34m'encoding'\u001b[0m\u001b[0;34m:\u001b[0m \u001b[0mencoding\u001b[0m\u001b[0;34m}\u001b[0m\u001b[0;34m\u001b[0m\u001b[0;34m\u001b[0m\u001b[0m\n\u001b[1;32m    211\u001b[0m \u001b[0;34m\u001b[0m\u001b[0m\n\u001b[0;32m--> 212\u001b[0;31m     \u001b[0mproc\u001b[0m \u001b[0;34m=\u001b[0m \u001b[0mexecute\u001b[0m\u001b[0;34m.\u001b[0m\u001b[0mrun_check\u001b[0m\u001b[0;34m(\u001b[0m\u001b[0mcmd\u001b[0m\u001b[0;34m,\u001b[0m \u001b[0mcapture_output\u001b[0m\u001b[0;34m=\u001b[0m\u001b[0;32mTrue\u001b[0m\u001b[0;34m,\u001b[0m \u001b[0mquiet\u001b[0m\u001b[0;34m=\u001b[0m\u001b[0mquiet\u001b[0m\u001b[0;34m,\u001b[0m \u001b[0;34m**\u001b[0m\u001b[0mkwargs\u001b[0m\u001b[0;34m)\u001b[0m\u001b[0;34m\u001b[0m\u001b[0;34m\u001b[0m\u001b[0m\n\u001b[0m\u001b[1;32m    213\u001b[0m     \u001b[0;32mreturn\u001b[0m \u001b[0mproc\u001b[0m\u001b[0;34m.\u001b[0m\u001b[0mstdout\u001b[0m\u001b[0;34m\u001b[0m\u001b[0;34m\u001b[0m\u001b[0m\n",
      "\u001b[0;32m/opt/anaconda3/lib/python3.7/site-packages/graphviz/backend/execute.py\u001b[0m in \u001b[0;36mrun_check\u001b[0;34m(cmd, input_lines, encoding, quiet, **kwargs)\u001b[0m\n\u001b[1;32m     82\u001b[0m     \u001b[0;32mexcept\u001b[0m \u001b[0mOSError\u001b[0m \u001b[0;32mas\u001b[0m \u001b[0me\u001b[0m\u001b[0;34m:\u001b[0m\u001b[0;34m\u001b[0m\u001b[0;34m\u001b[0m\u001b[0m\n\u001b[1;32m     83\u001b[0m         \u001b[0;32mif\u001b[0m \u001b[0me\u001b[0m\u001b[0;34m.\u001b[0m\u001b[0merrno\u001b[0m \u001b[0;34m==\u001b[0m \u001b[0merrno\u001b[0m\u001b[0;34m.\u001b[0m\u001b[0mENOENT\u001b[0m\u001b[0;34m:\u001b[0m\u001b[0;34m\u001b[0m\u001b[0;34m\u001b[0m\u001b[0m\n\u001b[0;32m---> 84\u001b[0;31m             \u001b[0;32mraise\u001b[0m \u001b[0mExecutableNotFound\u001b[0m\u001b[0;34m(\u001b[0m\u001b[0mcmd\u001b[0m\u001b[0;34m)\u001b[0m \u001b[0;32mfrom\u001b[0m \u001b[0me\u001b[0m\u001b[0;34m\u001b[0m\u001b[0;34m\u001b[0m\u001b[0m\n\u001b[0m\u001b[1;32m     85\u001b[0m         \u001b[0;32mraise\u001b[0m\u001b[0;34m\u001b[0m\u001b[0;34m\u001b[0m\u001b[0m\n\u001b[1;32m     86\u001b[0m \u001b[0;34m\u001b[0m\u001b[0m\n",
      "\u001b[0;31mExecutableNotFound\u001b[0m: failed to execute PosixPath('dot'), make sure the Graphviz executables are on your systems' PATH"
     ]
    },
    {
     "data": {
      "text/plain": [
       "<graphviz.graphs.Digraph at 0x407aa2c150>"
      ]
     },
     "execution_count": 7,
     "metadata": {},
     "output_type": "execute_result"
    }
   ],
   "source": [
    "# 弱学習器の描画\n",
    "# symmetric treeになっていることが確認できる\n",
    "pool = Pool(X_train, y_train, cat_features=cat_cols)\n",
    "cbc.plot_tree(tree_idx=1, pool=pool)"
   ]
  },
  {
   "cell_type": "code",
   "execution_count": null,
   "metadata": {},
   "outputs": [],
   "source": []
  },
  {
   "cell_type": "code",
   "execution_count": null,
   "metadata": {},
   "outputs": [],
   "source": []
  }
 ],
 "metadata": {
  "kernelspec": {
   "display_name": "Python 3",
   "language": "python",
   "name": "python3"
  },
  "language_info": {
   "codemirror_mode": {
    "name": "ipython",
    "version": 3
   },
   "file_extension": ".py",
   "mimetype": "text/x-python",
   "name": "python",
   "nbconvert_exporter": "python",
   "pygments_lexer": "ipython3",
   "version": "3.7.6"
  }
 },
 "nbformat": 4,
 "nbformat_minor": 5
}
