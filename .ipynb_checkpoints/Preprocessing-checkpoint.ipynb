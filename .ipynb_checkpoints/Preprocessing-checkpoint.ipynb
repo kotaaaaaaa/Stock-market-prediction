{
 "cells": [
  {
   "cell_type": "markdown",
   "metadata": {},
   "source": [
    "# Preprocessing"
   ]
  },
  {
   "cell_type": "markdown",
   "metadata": {},
   "source": [
    "## How to deal with missing values"
   ]
  },
  {
   "cell_type": "code",
   "execution_count": 1,
   "metadata": {},
   "outputs": [
    {
     "data": {
      "text/html": [
       "<div>\n",
       "<style scoped>\n",
       "    .dataframe tbody tr th:only-of-type {\n",
       "        vertical-align: middle;\n",
       "    }\n",
       "\n",
       "    .dataframe tbody tr th {\n",
       "        vertical-align: top;\n",
       "    }\n",
       "\n",
       "    .dataframe thead th {\n",
       "        text-align: right;\n",
       "    }\n",
       "</style>\n",
       "<table border=\"1\" class=\"dataframe\">\n",
       "  <thead>\n",
       "    <tr style=\"text-align: right;\">\n",
       "      <th></th>\n",
       "      <th>Date</th>\n",
       "      <th>Open</th>\n",
       "      <th>High</th>\n",
       "      <th>Low</th>\n",
       "      <th>Close</th>\n",
       "      <th>Adj Close</th>\n",
       "      <th>Volume</th>\n",
       "      <th>Ticker</th>\n",
       "      <th>Sentiment_Score</th>\n",
       "      <th>New_Covid_Cases</th>\n",
       "      <th>MarketCap</th>\n",
       "    </tr>\n",
       "  </thead>\n",
       "  <tbody>\n",
       "    <tr>\n",
       "      <th>0</th>\n",
       "      <td>2013-04-30</td>\n",
       "      <td>32.560001</td>\n",
       "      <td>33.110001</td>\n",
       "      <td>32.279999</td>\n",
       "      <td>33.099998</td>\n",
       "      <td>27.390682</td>\n",
       "      <td>75165200</td>\n",
       "      <td>MSFT</td>\n",
       "      <td>5.60</td>\n",
       "      <td>NaN</td>\n",
       "      <td>2396829515776</td>\n",
       "    </tr>\n",
       "    <tr>\n",
       "      <th>1</th>\n",
       "      <td>2013-05-01</td>\n",
       "      <td>32.930000</td>\n",
       "      <td>33.080002</td>\n",
       "      <td>32.599998</td>\n",
       "      <td>32.720001</td>\n",
       "      <td>27.076227</td>\n",
       "      <td>54330900</td>\n",
       "      <td>MSFT</td>\n",
       "      <td>0.04</td>\n",
       "      <td>NaN</td>\n",
       "      <td>2396829515776</td>\n",
       "    </tr>\n",
       "  </tbody>\n",
       "</table>\n",
       "</div>"
      ],
      "text/plain": [
       "         Date       Open       High        Low      Close  Adj Close  \\\n",
       "0  2013-04-30  32.560001  33.110001  32.279999  33.099998  27.390682   \n",
       "1  2013-05-01  32.930000  33.080002  32.599998  32.720001  27.076227   \n",
       "\n",
       "     Volume Ticker  Sentiment_Score  New_Covid_Cases      MarketCap  \n",
       "0  75165200   MSFT             5.60              NaN  2396829515776  \n",
       "1  54330900   MSFT             0.04              NaN  2396829515776  "
      ]
     },
     "execution_count": 1,
     "metadata": {},
     "output_type": "execute_result"
    }
   ],
   "source": [
    "import pandas as pd\n",
    "\n",
    "# Load the dataset\n",
    "df = pd.read_csv(\"merged_data.csv\")\n",
    "\n",
    "# Display the first few rows of the dataset\n",
    "df.head(2)\n"
   ]
  },
  {
   "cell_type": "code",
   "execution_count": 2,
   "metadata": {},
   "outputs": [
    {
     "data": {
      "text/plain": [
       "Date                    0\n",
       "Open                    0\n",
       "High                    0\n",
       "Low                     0\n",
       "Close                   0\n",
       "Adj Close               0\n",
       "Volume                  0\n",
       "Ticker                  0\n",
       "Sentiment_Score     30397\n",
       "New_Covid_Cases    150833\n",
       "MarketCap               0\n",
       "dtype: int64"
      ]
     },
     "execution_count": 2,
     "metadata": {},
     "output_type": "execute_result"
    }
   ],
   "source": [
    "# Calculate the number of missing values for each column\n",
    "missing_values = df.isnull().sum()\n",
    "\n",
    "missing_values\n"
   ]
  },
  {
   "cell_type": "markdown",
   "metadata": {},
   "source": [
    "- Sentiment_Score: 30,397 missing values\n",
    "- New_Covid_Cases: 150,833 missing values"
   ]
  },
  {
   "cell_type": "code",
   "execution_count": null,
   "metadata": {},
   "outputs": [],
   "source": [
    "# Calculate the number of missing values for the 'Sentiment_Score' column for each ticker\n",
    "missing_values_by_ticker = data[data['Sentiment_Score'].isna()].groupby('Ticker').size()\n",
    "\n",
    "missing_values_by_ticker.head()\n"
   ]
  },
  {
   "cell_type": "code",
   "execution_count": 3,
   "metadata": {},
   "outputs": [
    {
     "data": {
      "text/plain": [
       "Date                   0\n",
       "Open                   0\n",
       "High                   0\n",
       "Low                    0\n",
       "Close                  0\n",
       "Adj Close              0\n",
       "Volume                 0\n",
       "Ticker                 0\n",
       "Sentiment_Score    30397\n",
       "New_Covid_Cases        0\n",
       "MarketCap              0\n",
       "dtype: int64"
      ]
     },
     "execution_count": 3,
     "metadata": {},
     "output_type": "execute_result"
    }
   ],
   "source": [
    "# Filling missing values in 'New_Covid_Cases' column with 0\n",
    "df['New_Covid_Cases'].fillna(0, inplace=True)\n",
    "\n",
    "# Verify if missing values in 'New_Covid_Cases' have been filled\n",
    "missing_values_updated = df.isnull().sum()\n",
    "\n",
    "missing_values_updated\n"
   ]
  },
  {
   "cell_type": "code",
   "execution_count": 4,
   "metadata": {},
   "outputs": [
    {
     "ename": "NameError",
     "evalue": "name 'missing_values_by_ticker' is not defined",
     "output_type": "error",
     "traceback": [
      "\u001b[0;31m---------------------------------------------------------------------------\u001b[0m",
      "\u001b[0;31mNameError\u001b[0m                                 Traceback (most recent call last)",
      "\u001b[0;32m<ipython-input-4-817138d56bad>\u001b[0m in \u001b[0;36m<module>\u001b[0;34m\u001b[0m\n\u001b[1;32m      1\u001b[0m \u001b[0;31m# Get the top 20 tickers with the most missing values in 'Sentiment_Score'\u001b[0m\u001b[0;34m\u001b[0m\u001b[0;34m\u001b[0m\u001b[0;34m\u001b[0m\u001b[0m\n\u001b[0;32m----> 2\u001b[0;31m \u001b[0mtop_20_missing\u001b[0m \u001b[0;34m=\u001b[0m \u001b[0mmissing_values_by_ticker\u001b[0m\u001b[0;34m.\u001b[0m\u001b[0msort_values\u001b[0m\u001b[0;34m(\u001b[0m\u001b[0mascending\u001b[0m\u001b[0;34m=\u001b[0m\u001b[0;32mFalse\u001b[0m\u001b[0;34m)\u001b[0m\u001b[0;34m.\u001b[0m\u001b[0mhead\u001b[0m\u001b[0;34m(\u001b[0m\u001b[0;36m20\u001b[0m\u001b[0;34m)\u001b[0m\u001b[0;34m\u001b[0m\u001b[0;34m\u001b[0m\u001b[0m\n\u001b[0m\u001b[1;32m      3\u001b[0m \u001b[0;34m\u001b[0m\u001b[0m\n\u001b[1;32m      4\u001b[0m \u001b[0;31m# Plot\u001b[0m\u001b[0;34m\u001b[0m\u001b[0;34m\u001b[0m\u001b[0;34m\u001b[0m\u001b[0m\n\u001b[1;32m      5\u001b[0m \u001b[0mplt\u001b[0m\u001b[0;34m.\u001b[0m\u001b[0mfigure\u001b[0m\u001b[0;34m(\u001b[0m\u001b[0mfigsize\u001b[0m\u001b[0;34m=\u001b[0m\u001b[0;34m(\u001b[0m\u001b[0;36m10\u001b[0m\u001b[0;34m,\u001b[0m \u001b[0;36m8\u001b[0m\u001b[0;34m)\u001b[0m\u001b[0;34m)\u001b[0m\u001b[0;34m\u001b[0m\u001b[0;34m\u001b[0m\u001b[0m\n",
      "\u001b[0;31mNameError\u001b[0m: name 'missing_values_by_ticker' is not defined"
     ]
    }
   ],
   "source": [
    "# Get the top 20 tickers with the most missing values in 'Sentiment_Score'\n",
    "top_20_missing = missing_values_by_ticker.sort_values(ascending=False).head(20)\n",
    "\n",
    "# Plot\n",
    "plt.figure(figsize=(10, 8))\n",
    "sns.barplot(x=top_20_missing.values, y=top_20_missing.index, palette=\"viridis\")\n",
    "plt.title('Top 20 Tickers with Most Missing Values in Sentiment_Score')\n",
    "plt.xlabel('Number of Missing Values')\n",
    "plt.ylabel('Ticker')\n",
    "plt.tight_layout()\n",
    "\n",
    "plt.savefig(\"Top20_missing_values.png\", format='png')\n",
    "plt.show()"
   ]
  },
  {
   "cell_type": "code",
   "execution_count": 11,
   "metadata": {},
   "outputs": [
    {
     "data": {
      "text/plain": [
       "Ticker\n",
       "PEP     2518\n",
       "ATVI    2518\n",
       "dtype: int64"
      ]
     },
     "execution_count": 11,
     "metadata": {},
     "output_type": "execute_result"
    }
   ],
   "source": [
    "# Check if \"PEP\" and \"ATVI\" do not have sentiment scores\n",
    "pep_atvi_missing = top_20_missing[[\"PEP\", \"ATVI\"]]\n",
    "\n",
    "pep_atvi_missing\n"
   ]
  },
  {
   "cell_type": "code",
   "execution_count": 13,
   "metadata": {},
   "outputs": [
    {
     "data": {
      "text/plain": [
       "(False, False)"
      ]
     },
     "execution_count": 13,
     "metadata": {},
     "output_type": "execute_result"
    }
   ],
   "source": [
    "# Drop rows where the Ticker is either \"PEP\" or \"ATVI\"\n",
    "df = df[~df['Ticker'].isin([\"PEP\", \"ATVI\"])]\n",
    "\n",
    "# Verify the changes\n",
    "remaining_missing_values = df[df['Sentiment_Score'].isnull()].groupby('Ticker').size()\n",
    "\n",
    "# Check if \"PEP\" and \"ATVI\" are still in the dataset\n",
    "\"PEP\" in remaining_missing_values.index, \"ATVI\" in remaining_missing_values.index\n"
   ]
  },
  {
   "cell_type": "code",
   "execution_count": 14,
   "metadata": {},
   "outputs": [
    {
     "data": {
      "text/plain": [
       "Date               0\n",
       "Open               0\n",
       "High               0\n",
       "Low                0\n",
       "Close              0\n",
       "Adj Close          0\n",
       "Volume             0\n",
       "Ticker             0\n",
       "Sentiment_Score    0\n",
       "New_Covid_Cases    0\n",
       "MarketCap          0\n",
       "dtype: int64"
      ]
     },
     "execution_count": 14,
     "metadata": {},
     "output_type": "execute_result"
    }
   ],
   "source": [
    "# Filling missing values in 'Sentiment_Score' column with 0\n",
    "df['Sentiment_Score'].fillna(0, inplace=True)\n",
    "\n",
    "# Verify if missing values in 'Sentiment_Score' have been filled\n",
    "remaining_missing_values_updated = df.isnull().sum()\n",
    "\n",
    "remaining_missing_values_updated\n"
   ]
  },
  {
   "cell_type": "code",
   "execution_count": 15,
   "metadata": {},
   "outputs": [],
   "source": [
    "df.to_csv(\"After_preprocessing.csv\", index=False)"
   ]
  },
  {
   "cell_type": "code",
   "execution_count": 19,
   "metadata": {},
   "outputs": [
    {
     "data": {
      "text/plain": [
       "array(['MSFT', 'AAPL', 'NVDA', 'AMZN', 'META', 'TSLA', 'GOOGL', 'GOOG',\n",
       "       'AVGO', 'COST', 'ADBE', 'CSCO', 'NFLX', 'AMD', 'CMCSA', 'TMUS',\n",
       "       'TXN', 'INTC', 'HON', 'INTU', 'QCOM', 'ISRG', 'AMGN', 'AMAT',\n",
       "       'SBUX', 'BKNG', 'ADI', 'MDLZ', 'GILD', 'ADP', 'VRTX', 'LRCX',\n",
       "       'PYPL', 'REGN', 'PANW', 'MU', 'CSX', 'SNPS', 'KLAC', 'ASML',\n",
       "       'CDNS', 'FTNT', 'ORLY', 'MNST', 'MAR', 'CHTR', 'MELI', 'ABNB',\n",
       "       'NXPI', 'MRVL', 'DXCM', 'CTAS', 'MCHP', 'MRNA', 'LULU', 'ADSK',\n",
       "       'PDD', 'WDAY', 'PCAR', 'AEP', 'KDP', 'KHC', 'IDXX', 'CPRT', 'PAYX',\n",
       "       'ON', 'EXC', 'ODFL', 'BIIB', 'AZN', 'ROST', 'GEHC', 'EA', 'SGEN',\n",
       "       'CSGP', 'GFS', 'XEL', 'BKR', 'CTSH', 'FAST', 'VRSK', 'CRWD',\n",
       "       'DLTR', 'WBD', 'DDOG', 'CEG', 'ILMN', 'ANSS', 'ALGN', 'TEAM',\n",
       "       'WBA', 'FANG', 'ENPH', 'EBAY', 'ZS', 'SIRI', 'ZM', 'JD', 'LCID'],\n",
       "      dtype=object)"
      ]
     },
     "execution_count": 19,
     "metadata": {},
     "output_type": "execute_result"
    }
   ],
   "source": [
    "df[\"Ticker\"].unique()"
   ]
  },
  {
   "cell_type": "code",
   "execution_count": null,
   "metadata": {},
   "outputs": [],
   "source": []
  }
 ],
 "metadata": {
  "kernelspec": {
   "display_name": "Python 3",
   "language": "python",
   "name": "python3"
  },
  "language_info": {
   "codemirror_mode": {
    "name": "ipython",
    "version": 3
   },
   "file_extension": ".py",
   "mimetype": "text/x-python",
   "name": "python",
   "nbconvert_exporter": "python",
   "pygments_lexer": "ipython3",
   "version": "3.7.6"
  }
 },
 "nbformat": 4,
 "nbformat_minor": 5
}
