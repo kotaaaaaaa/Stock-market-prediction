{
 "cells": [
  {
   "cell_type": "markdown",
   "id": "bd8007c4-ed74-48fe-abce-f863f06e6fdd",
   "metadata": {},
   "source": [
    "# EDA"
   ]
  },
  {
   "cell_type": "markdown",
   "id": "aeb972bf-525b-455b-bae6-70e770d5bece",
   "metadata": {},
   "source": [
    "Here are the translations of the instructions:\n",
    "\n",
    "- Check for missing values.\n",
    "- Determine the type of each column (categorical or numerical?).\n",
    "- Descriptive statistics for each column (min, max, mean, etc.).\n",
    "- Scatter plots between each pair of columns and histograms for each column.\n",
    "- Record count for each category.\n",
    "- Check for outliers.\n",
    "- Correlation between columns."
   ]
  },
  {
   "cell_type": "code",
   "execution_count": 1,
   "id": "a1d0e147-81d7-427a-86ad-8cb677480e1e",
   "metadata": {},
   "outputs": [
    {
     "data": {
      "text/plain": [
       "Date                   0\n",
       "Open                   0\n",
       "High                   0\n",
       "Low                    0\n",
       "Close                  0\n",
       "Adj Close              0\n",
       "Volume                 0\n",
       "Ticker                 0\n",
       "SentimentScore    176469\n",
       "dtype: int64"
      ]
     },
     "execution_count": 1,
     "metadata": {},
     "output_type": "execute_result"
    }
   ],
   "source": [
    "import pandas as pd\n",
    "merged_data = pd.read_csv(\"merged_data.csv\")\n",
    "\n",
    "# Check for missing values\n",
    "missing_values = merged_data.isnull().sum()\n",
    "\n",
    "missing_values\n"
   ]
  },
  {
   "cell_type": "markdown",
   "id": "9e6757ff-8883-4d27-b241-e44ca55943db",
   "metadata": {},
   "source": [
    "Only SentimentScore has 176,469 missing values."
   ]
  },
  {
   "cell_type": "code",
   "execution_count": 2,
   "id": "284afa08-17eb-450a-9943-237c14c81e64",
   "metadata": {},
   "outputs": [
    {
     "data": {
      "text/plain": [
       "Date               object\n",
       "Open              float64\n",
       "High              float64\n",
       "Low               float64\n",
       "Close             float64\n",
       "Adj Close         float64\n",
       "Volume              int64\n",
       "Ticker             object\n",
       "SentimentScore    float64\n",
       "dtype: object"
      ]
     },
     "execution_count": 2,
     "metadata": {},
     "output_type": "execute_result"
    }
   ],
   "source": [
    "# Check the data types of each column\n",
    "data_types = merged_data.dtypes\n",
    "\n",
    "data_types"
   ]
  },
  {
   "cell_type": "code",
   "execution_count": 3,
   "id": "1ef4e7c2-549e-482c-b51b-2c29d6fff133",
   "metadata": {},
   "outputs": [
    {
     "data": {
      "text/html": [
       "<div>\n",
       "<style scoped>\n",
       "    .dataframe tbody tr th:only-of-type {\n",
       "        vertical-align: middle;\n",
       "    }\n",
       "\n",
       "    .dataframe tbody tr th {\n",
       "        vertical-align: top;\n",
       "    }\n",
       "\n",
       "    .dataframe thead th {\n",
       "        text-align: right;\n",
       "    }\n",
       "</style>\n",
       "<table border=\"1\" class=\"dataframe\">\n",
       "  <thead>\n",
       "    <tr style=\"text-align: right;\">\n",
       "      <th></th>\n",
       "      <th>Open</th>\n",
       "      <th>High</th>\n",
       "      <th>Low</th>\n",
       "      <th>Close</th>\n",
       "      <th>Adj Close</th>\n",
       "      <th>Volume</th>\n",
       "      <th>SentimentScore</th>\n",
       "    </tr>\n",
       "  </thead>\n",
       "  <tbody>\n",
       "    <tr>\n",
       "      <th>count</th>\n",
       "      <td>233135.000000</td>\n",
       "      <td>233135.000000</td>\n",
       "      <td>233135.000000</td>\n",
       "      <td>233135.000000</td>\n",
       "      <td>233135.000000</td>\n",
       "      <td>2.331350e+05</td>\n",
       "      <td>56666.000000</td>\n",
       "    </tr>\n",
       "    <tr>\n",
       "      <th>mean</th>\n",
       "      <td>134.095460</td>\n",
       "      <td>135.864769</td>\n",
       "      <td>132.277744</td>\n",
       "      <td>134.112890</td>\n",
       "      <td>130.112657</td>\n",
       "      <td>1.143806e+07</td>\n",
       "      <td>0.013755</td>\n",
       "    </tr>\n",
       "    <tr>\n",
       "      <th>std</th>\n",
       "      <td>217.520329</td>\n",
       "      <td>220.320146</td>\n",
       "      <td>214.613616</td>\n",
       "      <td>217.487610</td>\n",
       "      <td>217.902406</td>\n",
       "      <td>2.826915e+07</td>\n",
       "      <td>0.066255</td>\n",
       "    </tr>\n",
       "    <tr>\n",
       "      <th>min</th>\n",
       "      <td>0.700000</td>\n",
       "      <td>0.710000</td>\n",
       "      <td>0.650000</td>\n",
       "      <td>0.700000</td>\n",
       "      <td>0.700000</td>\n",
       "      <td>0.000000e+00</td>\n",
       "      <td>-0.920000</td>\n",
       "    </tr>\n",
       "    <tr>\n",
       "      <th>25%</th>\n",
       "      <td>38.450001</td>\n",
       "      <td>38.900002</td>\n",
       "      <td>37.980000</td>\n",
       "      <td>38.459999</td>\n",
       "      <td>34.619999</td>\n",
       "      <td>1.503500e+06</td>\n",
       "      <td>0.000000</td>\n",
       "    </tr>\n",
       "    <tr>\n",
       "      <th>50%</th>\n",
       "      <td>72.029999</td>\n",
       "      <td>72.900002</td>\n",
       "      <td>71.156670</td>\n",
       "      <td>72.059998</td>\n",
       "      <td>66.220001</td>\n",
       "      <td>3.245000e+06</td>\n",
       "      <td>0.004000</td>\n",
       "    </tr>\n",
       "    <tr>\n",
       "      <th>75%</th>\n",
       "      <td>147.979996</td>\n",
       "      <td>149.854752</td>\n",
       "      <td>145.979996</td>\n",
       "      <td>147.990005</td>\n",
       "      <td>142.840500</td>\n",
       "      <td>8.550050e+06</td>\n",
       "      <td>0.040000</td>\n",
       "    </tr>\n",
       "    <tr>\n",
       "      <th>max</th>\n",
       "      <td>2697.750000</td>\n",
       "      <td>2721.850098</td>\n",
       "      <td>2687.810059</td>\n",
       "      <td>2703.260010</td>\n",
       "      <td>2703.260010</td>\n",
       "      <td>1.065523e+09</td>\n",
       "      <td>1.000000</td>\n",
       "    </tr>\n",
       "  </tbody>\n",
       "</table>\n",
       "</div>"
      ],
      "text/plain": [
       "                Open           High            Low          Close  \\\n",
       "count  233135.000000  233135.000000  233135.000000  233135.000000   \n",
       "mean      134.095460     135.864769     132.277744     134.112890   \n",
       "std       217.520329     220.320146     214.613616     217.487610   \n",
       "min         0.700000       0.710000       0.650000       0.700000   \n",
       "25%        38.450001      38.900002      37.980000      38.459999   \n",
       "50%        72.029999      72.900002      71.156670      72.059998   \n",
       "75%       147.979996     149.854752     145.979996     147.990005   \n",
       "max      2697.750000    2721.850098    2687.810059    2703.260010   \n",
       "\n",
       "           Adj Close        Volume  SentimentScore  \n",
       "count  233135.000000  2.331350e+05    56666.000000  \n",
       "mean      130.112657  1.143806e+07        0.013755  \n",
       "std       217.902406  2.826915e+07        0.066255  \n",
       "min         0.700000  0.000000e+00       -0.920000  \n",
       "25%        34.619999  1.503500e+06        0.000000  \n",
       "50%        66.220001  3.245000e+06        0.004000  \n",
       "75%       142.840500  8.550050e+06        0.040000  \n",
       "max      2703.260010  1.065523e+09        1.000000  "
      ]
     },
     "execution_count": 3,
     "metadata": {},
     "output_type": "execute_result"
    }
   ],
   "source": [
    "# Get descriptive statistics for each column\n",
    "descriptive_stats = merged_data.describe()\n",
    "\n",
    "descriptive_stats"
   ]
  },
  {
   "cell_type": "code",
   "execution_count": null,
   "id": "25d4b977-0971-4584-9254-ceb99fedbae3",
   "metadata": {},
   "outputs": [
    {
     "name": "stderr",
     "output_type": "stream",
     "text": [
      "/Users/kobayashikouta/opt/anaconda3/lib/python3.8/site-packages/scipy/__init__.py:138: UserWarning: A NumPy version >=1.16.5 and <1.23.0 is required for this version of SciPy (detected version 1.24.4)\n",
      "  warnings.warn(f\"A NumPy version >={np_minversion} and <{np_maxversion} is required for this version of \"\n"
     ]
    }
   ],
   "source": [
    "import matplotlib.pyplot as plt\n",
    "import seaborn as sns\n",
    "\n",
    "# Set the style of seaborn\n",
    "sns.set(style=\"whitegrid\")\n",
    "\n",
    "# Create a pair plot\n",
    "pair_plot = sns.pairplot(merged_data.dropna(), hue='Ticker')\n",
    "\n",
    "plt.show()\n"
   ]
  },
  {
   "cell_type": "code",
   "execution_count": null,
   "id": "5d27010c-6278-4b47-b87f-dc6cdea98055",
   "metadata": {},
   "outputs": [],
   "source": [
    "# Check the record count for each category in the 'Ticker' column\n",
    "category_counts = merged_data['Ticker'].value_counts()\n",
    "\n",
    "category_counts"
   ]
  },
  {
   "cell_type": "code",
   "execution_count": null,
   "id": "8fd204ce-dddf-4ecc-8640-e1eeba191276",
   "metadata": {},
   "outputs": [],
   "source": [
    "import numpy as np\n",
    "# Define a function to detect outliers in each column using the IQR method\n",
    "def detect_outliers(df, features):\n",
    "    outlier_indices = []\n",
    "    \n",
    "    for c in features:\n",
    "        # 1st quartile\n",
    "        Q1 = np.percentile(df[c], 25)\n",
    "        # 3rd quartile\n",
    "        Q3 = np.percentile(df[c], 75)\n",
    "        # IQR\n",
    "        IQR = Q3 - Q1\n",
    "        # Outlier step\n",
    "        outlier_step = 1.5 * IQR\n",
    "        # Determine a list of indices of outliers for feature col\n",
    "        outlier_list_col = df[(df[c] < Q1 - outlier_step) | (df[c] > Q3 + outlier_step)].index\n",
    "        # Append the found outlier indices for col to the list of outlier indices \n",
    "        outlier_indices.extend(outlier_list_col)\n",
    "        \n",
    "    return outlier_indices\n",
    "\n",
    "# Detect outliers in the numerical columns\n",
    "numerical_columns = ['Open', 'High', 'Low', 'Close', 'Adj Close', 'Volume', 'SentimentScore']\n",
    "outlier_indices = detect_outliers(merged_data, numerical_columns)\n",
    "\n",
    "# Create a dataframe of outliers\n",
    "outliers = merged_data.loc[outlier_indices]\n",
    "\n",
    "outliers.head()\n"
   ]
  },
  {
   "cell_type": "markdown",
   "id": "5310c0f7-330d-42b5-b7bf-f0676ecaed7f",
   "metadata": {},
   "source": [
    "These five rows are outliers. How to deal with these values?"
   ]
  },
  {
   "cell_type": "code",
   "execution_count": null,
   "id": "1db8c827-a6a1-4cf3-8e99-1ed8af5e46bf",
   "metadata": {},
   "outputs": [],
   "source": [
    "# Select only the numeric columns\n",
    "numeric_columns = merged_data.select_dtypes(include=[np.number])\n",
    "\n",
    "# Compute the correlation matrix\n",
    "correlation_matrix = numeric_columns.corr()\n",
    "correlation_matrix"
   ]
  },
  {
   "cell_type": "code",
   "execution_count": null,
   "id": "ced269f0-e9f9-4e53-afe6-4e1af1142721",
   "metadata": {},
   "outputs": [],
   "source": [
    "# Create a heatmap\n",
    "plt.figure(figsize=(10, 8))\n",
    "sns.heatmap(correlation_matrix, annot=True, cmap='coolwarm')\n",
    "\n",
    "plt.show()\n"
   ]
  }
 ],
 "metadata": {
  "kernelspec": {
   "display_name": "Python 3",
   "language": "python",
   "name": "python3"
  },
  "language_info": {
   "codemirror_mode": {
    "name": "ipython",
    "version": 3
   },
   "file_extension": ".py",
   "mimetype": "text/x-python",
   "name": "python",
   "nbconvert_exporter": "python",
   "pygments_lexer": "ipython3",
   "version": "3.8.8"
  }
 },
 "nbformat": 4,
 "nbformat_minor": 5
}
